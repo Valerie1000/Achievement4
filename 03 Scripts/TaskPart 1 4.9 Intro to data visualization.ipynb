{
 "cells": [
  {
   "cell_type": "markdown",
   "id": "06dd9194-5009-44c8-8049-e490649c8d32",
   "metadata": {},
   "source": [
    "# Table of Contents for Task on 4.9 Intro to data visualization\n",
    "    Import libraries, set path, import files (customers.csv and ords_prods_merge_newvariable_flags.pkl)\n",
    "    Customers file\n",
    "        Perform checks (shape, head, tail, columns, describe, dtypes, value_counts\n",
    "        Change dtypes for smaller RAM\n",
    "        Drop columns First Name and Surname as they are not needed for analysis (personable identifiers)\n",
    "        Find missing values and duplicates: none\n",
    "    Ords_prods_merge file\n",
    "        Perform checks (shape, dtypes)\n",
    "        Drop columns not needed\n",
    "    Merge both files left to attach the customer info onto the ords_prods info\n",
    "        Check shape, head, value_counts for _merge\n",
    "        Check for missing values and duplicates\n",
    "        Review for shape, head, columns\n",
    "    Export as orders_products_customers.pkl"
   ]
  },
  {
   "cell_type": "markdown",
   "id": "95845136-f4ea-456e-9990-2914848e1d01",
   "metadata": {},
   "source": [
    "# Importing libraries"
   ]
  },
  {
   "cell_type": "code",
   "execution_count": 1,
   "id": "c3d41b37-3ec0-4987-ab62-386db11baf02",
   "metadata": {},
   "outputs": [],
   "source": [
    "import pandas as pd\n",
    "import numpy as np\n",
    "import os\n",
    "import matplotlib.pyplot as plt\n",
    "import seaborn as sns\n",
    "import scipy"
   ]
  },
  {
   "cell_type": "markdown",
   "id": "fede91c0-73bf-496b-8042-0e3032c32d6f",
   "metadata": {},
   "source": [
    "# Set path"
   ]
  },
  {
   "cell_type": "code",
   "execution_count": 2,
   "id": "9b64a322-6547-4281-b889-7c430ff60e8f",
   "metadata": {},
   "outputs": [],
   "source": [
    "path = r'C:\\Users\\valev\\Desktop\\0325 Instacart Basket Analysis'"
   ]
  },
  {
   "cell_type": "markdown",
   "id": "6d76836b-bbaa-49cd-a817-42acbc293a81",
   "metadata": {},
   "source": [
    "# Import files"
   ]
  },
  {
   "cell_type": "code",
   "execution_count": 3,
   "id": "201bf034-5b95-42e1-9600-b1a0b157398c",
   "metadata": {},
   "outputs": [],
   "source": [
    "df_customers = pd.read_csv(os.path.join(path, '02 Data', 'Original Data', 'customers.csv'))"
   ]
  },
  {
   "cell_type": "code",
   "execution_count": 4,
   "id": "e865a7f4-787c-478a-b64a-d3dff0034ed3",
   "metadata": {},
   "outputs": [],
   "source": [
    "df_ords_prods_merge = pd.read_pickle(os.path.join(path, '02 Data', 'Prepared Data', 'ord_prods_merge_newvariable_flags.pkl' ))"
   ]
  },
  {
   "cell_type": "markdown",
   "id": "4ba9fd8b-455c-4d05-b84c-11b9d7e7a173",
   "metadata": {},
   "source": [
    "# Perform checks on Customers file"
   ]
  },
  {
   "cell_type": "code",
   "execution_count": 5,
   "id": "010f3d97-698a-4076-90e6-bcba2b849fc1",
   "metadata": {},
   "outputs": [
    {
     "data": {
      "text/plain": [
       "(206209, 10)"
      ]
     },
     "execution_count": 5,
     "metadata": {},
     "output_type": "execute_result"
    }
   ],
   "source": [
    "df_customers.shape"
   ]
  },
  {
   "cell_type": "code",
   "execution_count": 6,
   "id": "788526a1-d9ef-4f6b-9441-6e1899862efc",
   "metadata": {},
   "outputs": [
    {
     "data": {
      "text/html": [
       "<div>\n",
       "<style scoped>\n",
       "    .dataframe tbody tr th:only-of-type {\n",
       "        vertical-align: middle;\n",
       "    }\n",
       "\n",
       "    .dataframe tbody tr th {\n",
       "        vertical-align: top;\n",
       "    }\n",
       "\n",
       "    .dataframe thead th {\n",
       "        text-align: right;\n",
       "    }\n",
       "</style>\n",
       "<table border=\"1\" class=\"dataframe\">\n",
       "  <thead>\n",
       "    <tr style=\"text-align: right;\">\n",
       "      <th></th>\n",
       "      <th>user_id</th>\n",
       "      <th>First Name</th>\n",
       "      <th>Surnam</th>\n",
       "      <th>Gender</th>\n",
       "      <th>STATE</th>\n",
       "      <th>Age</th>\n",
       "      <th>date_joined</th>\n",
       "      <th>n_dependants</th>\n",
       "      <th>fam_status</th>\n",
       "      <th>income</th>\n",
       "    </tr>\n",
       "  </thead>\n",
       "  <tbody>\n",
       "    <tr>\n",
       "      <th>0</th>\n",
       "      <td>26711</td>\n",
       "      <td>Deborah</td>\n",
       "      <td>Esquivel</td>\n",
       "      <td>Female</td>\n",
       "      <td>Missouri</td>\n",
       "      <td>48</td>\n",
       "      <td>1/1/2017</td>\n",
       "      <td>3</td>\n",
       "      <td>married</td>\n",
       "      <td>165665</td>\n",
       "    </tr>\n",
       "    <tr>\n",
       "      <th>1</th>\n",
       "      <td>33890</td>\n",
       "      <td>Patricia</td>\n",
       "      <td>Hart</td>\n",
       "      <td>Female</td>\n",
       "      <td>New Mexico</td>\n",
       "      <td>36</td>\n",
       "      <td>1/1/2017</td>\n",
       "      <td>0</td>\n",
       "      <td>single</td>\n",
       "      <td>59285</td>\n",
       "    </tr>\n",
       "    <tr>\n",
       "      <th>2</th>\n",
       "      <td>65803</td>\n",
       "      <td>Kenneth</td>\n",
       "      <td>Farley</td>\n",
       "      <td>Male</td>\n",
       "      <td>Idaho</td>\n",
       "      <td>35</td>\n",
       "      <td>1/1/2017</td>\n",
       "      <td>2</td>\n",
       "      <td>married</td>\n",
       "      <td>99568</td>\n",
       "    </tr>\n",
       "    <tr>\n",
       "      <th>3</th>\n",
       "      <td>125935</td>\n",
       "      <td>Michelle</td>\n",
       "      <td>Hicks</td>\n",
       "      <td>Female</td>\n",
       "      <td>Iowa</td>\n",
       "      <td>40</td>\n",
       "      <td>1/1/2017</td>\n",
       "      <td>0</td>\n",
       "      <td>single</td>\n",
       "      <td>42049</td>\n",
       "    </tr>\n",
       "    <tr>\n",
       "      <th>4</th>\n",
       "      <td>130797</td>\n",
       "      <td>Ann</td>\n",
       "      <td>Gilmore</td>\n",
       "      <td>Female</td>\n",
       "      <td>Maryland</td>\n",
       "      <td>26</td>\n",
       "      <td>1/1/2017</td>\n",
       "      <td>1</td>\n",
       "      <td>married</td>\n",
       "      <td>40374</td>\n",
       "    </tr>\n",
       "  </tbody>\n",
       "</table>\n",
       "</div>"
      ],
      "text/plain": [
       "   user_id First Name    Surnam  Gender       STATE  Age date_joined  \\\n",
       "0    26711    Deborah  Esquivel  Female    Missouri   48    1/1/2017   \n",
       "1    33890   Patricia      Hart  Female  New Mexico   36    1/1/2017   \n",
       "2    65803    Kenneth    Farley    Male       Idaho   35    1/1/2017   \n",
       "3   125935   Michelle     Hicks  Female        Iowa   40    1/1/2017   \n",
       "4   130797        Ann   Gilmore  Female    Maryland   26    1/1/2017   \n",
       "\n",
       "   n_dependants fam_status  income  \n",
       "0             3    married  165665  \n",
       "1             0     single   59285  \n",
       "2             2    married   99568  \n",
       "3             0     single   42049  \n",
       "4             1    married   40374  "
      ]
     },
     "execution_count": 6,
     "metadata": {},
     "output_type": "execute_result"
    }
   ],
   "source": [
    "df_customers.head()"
   ]
  },
  {
   "cell_type": "code",
   "execution_count": 7,
   "id": "dce74a21-90f4-431a-bdec-29ae78990cad",
   "metadata": {},
   "outputs": [
    {
     "data": {
      "text/html": [
       "<div>\n",
       "<style scoped>\n",
       "    .dataframe tbody tr th:only-of-type {\n",
       "        vertical-align: middle;\n",
       "    }\n",
       "\n",
       "    .dataframe tbody tr th {\n",
       "        vertical-align: top;\n",
       "    }\n",
       "\n",
       "    .dataframe thead th {\n",
       "        text-align: right;\n",
       "    }\n",
       "</style>\n",
       "<table border=\"1\" class=\"dataframe\">\n",
       "  <thead>\n",
       "    <tr style=\"text-align: right;\">\n",
       "      <th></th>\n",
       "      <th>user_id</th>\n",
       "      <th>First Name</th>\n",
       "      <th>Surnam</th>\n",
       "      <th>Gender</th>\n",
       "      <th>STATE</th>\n",
       "      <th>Age</th>\n",
       "      <th>date_joined</th>\n",
       "      <th>n_dependants</th>\n",
       "      <th>fam_status</th>\n",
       "      <th>income</th>\n",
       "    </tr>\n",
       "  </thead>\n",
       "  <tbody>\n",
       "    <tr>\n",
       "      <th>206204</th>\n",
       "      <td>168073</td>\n",
       "      <td>Lisa</td>\n",
       "      <td>Case</td>\n",
       "      <td>Female</td>\n",
       "      <td>North Carolina</td>\n",
       "      <td>44</td>\n",
       "      <td>4/1/2020</td>\n",
       "      <td>1</td>\n",
       "      <td>married</td>\n",
       "      <td>148828</td>\n",
       "    </tr>\n",
       "    <tr>\n",
       "      <th>206205</th>\n",
       "      <td>49635</td>\n",
       "      <td>Jeremy</td>\n",
       "      <td>Robbins</td>\n",
       "      <td>Male</td>\n",
       "      <td>Hawaii</td>\n",
       "      <td>62</td>\n",
       "      <td>4/1/2020</td>\n",
       "      <td>3</td>\n",
       "      <td>married</td>\n",
       "      <td>168639</td>\n",
       "    </tr>\n",
       "    <tr>\n",
       "      <th>206206</th>\n",
       "      <td>135902</td>\n",
       "      <td>Doris</td>\n",
       "      <td>Richmond</td>\n",
       "      <td>Female</td>\n",
       "      <td>Missouri</td>\n",
       "      <td>66</td>\n",
       "      <td>4/1/2020</td>\n",
       "      <td>2</td>\n",
       "      <td>married</td>\n",
       "      <td>53374</td>\n",
       "    </tr>\n",
       "    <tr>\n",
       "      <th>206207</th>\n",
       "      <td>81095</td>\n",
       "      <td>Rose</td>\n",
       "      <td>Rollins</td>\n",
       "      <td>Female</td>\n",
       "      <td>California</td>\n",
       "      <td>27</td>\n",
       "      <td>4/1/2020</td>\n",
       "      <td>1</td>\n",
       "      <td>married</td>\n",
       "      <td>99799</td>\n",
       "    </tr>\n",
       "    <tr>\n",
       "      <th>206208</th>\n",
       "      <td>80148</td>\n",
       "      <td>Cynthia</td>\n",
       "      <td>Noble</td>\n",
       "      <td>Female</td>\n",
       "      <td>New York</td>\n",
       "      <td>55</td>\n",
       "      <td>4/1/2020</td>\n",
       "      <td>1</td>\n",
       "      <td>married</td>\n",
       "      <td>57095</td>\n",
       "    </tr>\n",
       "  </tbody>\n",
       "</table>\n",
       "</div>"
      ],
      "text/plain": [
       "        user_id First Name    Surnam  Gender           STATE  Age date_joined  \\\n",
       "206204   168073       Lisa      Case  Female  North Carolina   44    4/1/2020   \n",
       "206205    49635     Jeremy   Robbins    Male          Hawaii   62    4/1/2020   \n",
       "206206   135902      Doris  Richmond  Female        Missouri   66    4/1/2020   \n",
       "206207    81095       Rose   Rollins  Female      California   27    4/1/2020   \n",
       "206208    80148    Cynthia     Noble  Female        New York   55    4/1/2020   \n",
       "\n",
       "        n_dependants fam_status  income  \n",
       "206204             1    married  148828  \n",
       "206205             3    married  168639  \n",
       "206206             2    married   53374  \n",
       "206207             1    married   99799  \n",
       "206208             1    married   57095  "
      ]
     },
     "execution_count": 7,
     "metadata": {},
     "output_type": "execute_result"
    }
   ],
   "source": [
    "df_customers.tail()"
   ]
  },
  {
   "cell_type": "code",
   "execution_count": 8,
   "id": "92d5cfc8-5da4-4ff1-b984-f38760b7da42",
   "metadata": {},
   "outputs": [
    {
     "data": {
      "text/plain": [
       "Index(['user_id', 'First Name', 'Surnam', 'Gender', 'STATE', 'Age',\n",
       "       'date_joined', 'n_dependants', 'fam_status', 'income'],\n",
       "      dtype='object')"
      ]
     },
     "execution_count": 8,
     "metadata": {},
     "output_type": "execute_result"
    }
   ],
   "source": [
    "df_customers.columns"
   ]
  },
  {
   "cell_type": "code",
   "execution_count": 9,
   "id": "94ffb6f0-739d-40f2-88de-53a8e95ee8a9",
   "metadata": {},
   "outputs": [
    {
     "data": {
      "text/html": [
       "<div>\n",
       "<style scoped>\n",
       "    .dataframe tbody tr th:only-of-type {\n",
       "        vertical-align: middle;\n",
       "    }\n",
       "\n",
       "    .dataframe tbody tr th {\n",
       "        vertical-align: top;\n",
       "    }\n",
       "\n",
       "    .dataframe thead th {\n",
       "        text-align: right;\n",
       "    }\n",
       "</style>\n",
       "<table border=\"1\" class=\"dataframe\">\n",
       "  <thead>\n",
       "    <tr style=\"text-align: right;\">\n",
       "      <th></th>\n",
       "      <th>user_id</th>\n",
       "      <th>Age</th>\n",
       "      <th>n_dependants</th>\n",
       "      <th>income</th>\n",
       "    </tr>\n",
       "  </thead>\n",
       "  <tbody>\n",
       "    <tr>\n",
       "      <th>count</th>\n",
       "      <td>206209.000000</td>\n",
       "      <td>206209.000000</td>\n",
       "      <td>206209.000000</td>\n",
       "      <td>206209.000000</td>\n",
       "    </tr>\n",
       "    <tr>\n",
       "      <th>mean</th>\n",
       "      <td>103105.000000</td>\n",
       "      <td>49.501646</td>\n",
       "      <td>1.499823</td>\n",
       "      <td>94632.852548</td>\n",
       "    </tr>\n",
       "    <tr>\n",
       "      <th>std</th>\n",
       "      <td>59527.555167</td>\n",
       "      <td>18.480962</td>\n",
       "      <td>1.118433</td>\n",
       "      <td>42473.786988</td>\n",
       "    </tr>\n",
       "    <tr>\n",
       "      <th>min</th>\n",
       "      <td>1.000000</td>\n",
       "      <td>18.000000</td>\n",
       "      <td>0.000000</td>\n",
       "      <td>25903.000000</td>\n",
       "    </tr>\n",
       "    <tr>\n",
       "      <th>25%</th>\n",
       "      <td>51553.000000</td>\n",
       "      <td>33.000000</td>\n",
       "      <td>0.000000</td>\n",
       "      <td>59874.000000</td>\n",
       "    </tr>\n",
       "    <tr>\n",
       "      <th>50%</th>\n",
       "      <td>103105.000000</td>\n",
       "      <td>49.000000</td>\n",
       "      <td>1.000000</td>\n",
       "      <td>93547.000000</td>\n",
       "    </tr>\n",
       "    <tr>\n",
       "      <th>75%</th>\n",
       "      <td>154657.000000</td>\n",
       "      <td>66.000000</td>\n",
       "      <td>3.000000</td>\n",
       "      <td>124244.000000</td>\n",
       "    </tr>\n",
       "    <tr>\n",
       "      <th>max</th>\n",
       "      <td>206209.000000</td>\n",
       "      <td>81.000000</td>\n",
       "      <td>3.000000</td>\n",
       "      <td>593901.000000</td>\n",
       "    </tr>\n",
       "  </tbody>\n",
       "</table>\n",
       "</div>"
      ],
      "text/plain": [
       "             user_id            Age   n_dependants         income\n",
       "count  206209.000000  206209.000000  206209.000000  206209.000000\n",
       "mean   103105.000000      49.501646       1.499823   94632.852548\n",
       "std     59527.555167      18.480962       1.118433   42473.786988\n",
       "min         1.000000      18.000000       0.000000   25903.000000\n",
       "25%     51553.000000      33.000000       0.000000   59874.000000\n",
       "50%    103105.000000      49.000000       1.000000   93547.000000\n",
       "75%    154657.000000      66.000000       3.000000  124244.000000\n",
       "max    206209.000000      81.000000       3.000000  593901.000000"
      ]
     },
     "execution_count": 9,
     "metadata": {},
     "output_type": "execute_result"
    }
   ],
   "source": [
    "df_customers.describe()"
   ]
  },
  {
   "cell_type": "code",
   "execution_count": 10,
   "id": "8e16e6bc-abbe-421c-be4e-793d89b7f04a",
   "metadata": {},
   "outputs": [
    {
     "data": {
      "text/plain": [
       "user_id          int64\n",
       "First Name      object\n",
       "Surnam          object\n",
       "Gender          object\n",
       "STATE           object\n",
       "Age              int64\n",
       "date_joined     object\n",
       "n_dependants     int64\n",
       "fam_status      object\n",
       "income           int64\n",
       "dtype: object"
      ]
     },
     "execution_count": 10,
     "metadata": {},
     "output_type": "execute_result"
    }
   ],
   "source": [
    "df_customers.dtypes"
   ]
  },
  {
   "cell_type": "code",
   "execution_count": 11,
   "id": "a9d7fcf9-3c12-4e69-b40c-c1a294893a80",
   "metadata": {},
   "outputs": [
    {
     "data": {
      "text/plain": [
       "user_id  First Name  Surnam    Gender  STATE          Age  date_joined  n_dependants  fam_status                        income\n",
       "1        Linda       Nguyen    Female  Alabama        31   2/17/2019    3             married                           40423     1\n",
       "137478   Elizabeth   Mcdonald  Female  Maryland       19   12/16/2019   2             living with parents and siblings  28625     1\n",
       "137468   Todd        Welch     Male    Nevada         31   7/11/2017    1             married                           42533     1\n",
       "137469   Douglas     Andrews   Male    New Hampshire  45   4/18/2018    1             married                           125718    1\n",
       "137470   Jeremy      Bennett   Male    New Jersey     19   5/10/2019    3             living with parents and siblings  79969     1\n",
       "                                                                                                                                 ..\n",
       "68740    Michael     Wall      Male    Tennessee      48   8/18/2017    3             married                           134149    1\n",
       "68741    Amy         Mack      Female  Texas          68   6/15/2017    0             divorced/widowed                  31977     1\n",
       "68742    Victor      Guzman    Male    Utah           33   4/5/2019     0             single                            58471     1\n",
       "68743    Stephen     Michael   Male    Vermont        70   7/28/2017    1             married                           80221     1\n",
       "206209   Diana       Donovan   Female  Iowa           74   9/14/2019    3             married                           137969    1\n",
       "Name: count, Length: 206209, dtype: int64"
      ]
     },
     "execution_count": 11,
     "metadata": {},
     "output_type": "execute_result"
    }
   ],
   "source": [
    "df_customers.value_counts(dropna=False)"
   ]
  },
  {
   "cell_type": "markdown",
   "id": "38d69ec2-b505-4dc2-a770-379c911566ae",
   "metadata": {},
   "source": [
    "## Change dtypes"
   ]
  },
  {
   "cell_type": "code",
   "execution_count": 12,
   "id": "f169b8aa-7462-494f-8da8-ac06a1232876",
   "metadata": {},
   "outputs": [],
   "source": [
    "# Change user_id to a shorter integer and to match the other dataframe to be merged with - int32\n",
    "df_customers['user_id'] = df_customers['user_id'].astype('int32')"
   ]
  },
  {
   "cell_type": "code",
   "execution_count": 13,
   "id": "fd33b853-bb83-474d-bc15-49e09393314e",
   "metadata": {},
   "outputs": [
    {
     "data": {
      "text/plain": [
       "dtype('int32')"
      ]
     },
     "execution_count": 13,
     "metadata": {},
     "output_type": "execute_result"
    }
   ],
   "source": [
    "#Check dtype\n",
    "df_customers['user_id'].dtype"
   ]
  },
  {
   "cell_type": "code",
   "execution_count": 14,
   "id": "2443c9d5-b0f9-4921-83eb-55d6369a7698",
   "metadata": {},
   "outputs": [],
   "source": [
    "# Change age to a shorter integer.  Change data type on age to int8\n",
    "df_customers['Age'] = df_customers['Age'].astype('int8')"
   ]
  },
  {
   "cell_type": "code",
   "execution_count": 15,
   "id": "b785aec7-6ac3-4f71-b596-e0d7572bbdb9",
   "metadata": {},
   "outputs": [
    {
     "data": {
      "text/plain": [
       "dtype('int8')"
      ]
     },
     "execution_count": 15,
     "metadata": {},
     "output_type": "execute_result"
    }
   ],
   "source": [
    "#Check dtype\n",
    "df_customers['Age'].dtype"
   ]
  },
  {
   "cell_type": "code",
   "execution_count": 16,
   "id": "78493cba-757c-4031-b877-14ac0fc31843",
   "metadata": {},
   "outputs": [],
   "source": [
    "# Change income to a shorter integer.  Change data type on income to int32\n",
    "df_customers['income'] = df_customers['income'].astype('int32')"
   ]
  },
  {
   "cell_type": "code",
   "execution_count": 17,
   "id": "c3d64590-16cb-44ba-a4cd-c9b2f0be08de",
   "metadata": {},
   "outputs": [],
   "source": [
    "# Change n_dependants to a shorter integer.  Change data type to int8\n",
    "df_customers['n_dependants'] = df_customers['n_dependants'].astype('int8')"
   ]
  },
  {
   "cell_type": "code",
   "execution_count": 18,
   "id": "59c1a8ce-311b-446c-9607-a83197c1e900",
   "metadata": {},
   "outputs": [
    {
     "data": {
      "text/plain": [
       "user_id          int32\n",
       "First Name      object\n",
       "Surnam          object\n",
       "Gender          object\n",
       "STATE           object\n",
       "Age               int8\n",
       "date_joined     object\n",
       "n_dependants      int8\n",
       "fam_status      object\n",
       "income           int32\n",
       "dtype: object"
      ]
     },
     "execution_count": 18,
     "metadata": {},
     "output_type": "execute_result"
    }
   ],
   "source": [
    "df_customers.dtypes"
   ]
  },
  {
   "cell_type": "markdown",
   "id": "ffc23dfa-1e27-4ae1-9664-dfe77f5cfdab",
   "metadata": {},
   "source": [
    "# Drop columns First Name and Surname as they are not needed for analysis (personable identifiers)"
   ]
  },
  {
   "cell_type": "code",
   "execution_count": 19,
   "id": "6117b477-b1de-41de-8724-427b41b51ccb",
   "metadata": {},
   "outputs": [],
   "source": [
    "df_customers.drop(['First Name', 'Surnam'], axis=1, inplace=True)"
   ]
  },
  {
   "cell_type": "code",
   "execution_count": 20,
   "id": "675e07c8-d314-4aca-a146-c1b559cbb791",
   "metadata": {},
   "outputs": [
    {
     "data": {
      "text/plain": [
       "Index(['user_id', 'Gender', 'STATE', 'Age', 'date_joined', 'n_dependants',\n",
       "       'fam_status', 'income'],\n",
       "      dtype='object')"
      ]
     },
     "execution_count": 20,
     "metadata": {},
     "output_type": "execute_result"
    }
   ],
   "source": [
    "df_customers.columns"
   ]
  },
  {
   "cell_type": "code",
   "execution_count": 21,
   "id": "2491e7c6-fcd6-432b-9353-08ce63a6d17c",
   "metadata": {},
   "outputs": [
    {
     "data": {
      "text/plain": [
       "(206209, 8)"
      ]
     },
     "execution_count": 21,
     "metadata": {},
     "output_type": "execute_result"
    }
   ],
   "source": [
    "df_customers.shape"
   ]
  },
  {
   "cell_type": "markdown",
   "id": "93810ed8-4f0a-4b92-84fe-0c449a6b45d2",
   "metadata": {},
   "source": [
    "## Find missing values and duplicates"
   ]
  },
  {
   "cell_type": "code",
   "execution_count": 22,
   "id": "d166aecf-1c22-4416-937e-b570ada66ba9",
   "metadata": {},
   "outputs": [
    {
     "data": {
      "text/plain": [
       "user_id         0\n",
       "Gender          0\n",
       "STATE           0\n",
       "Age             0\n",
       "date_joined     0\n",
       "n_dependants    0\n",
       "fam_status      0\n",
       "income          0\n",
       "dtype: int64"
      ]
     },
     "execution_count": 22,
     "metadata": {},
     "output_type": "execute_result"
    }
   ],
   "source": [
    "# Find Missing Values in df_customers\n",
    "df_customers.isnull().sum()"
   ]
  },
  {
   "cell_type": "markdown",
   "id": "08ab420c-c6a0-4c30-8514-18770c7f986f",
   "metadata": {},
   "source": [
    "### There are no missing values  "
   ]
  },
  {
   "cell_type": "code",
   "execution_count": 23,
   "id": "3dd0d573-0ca8-4e2b-a42f-4e567cb38c36",
   "metadata": {},
   "outputs": [],
   "source": [
    "# Look for duplicates\n",
    "df_dups = df_customers[df_customers.duplicated()]"
   ]
  },
  {
   "cell_type": "code",
   "execution_count": 24,
   "id": "d250a402-2f60-4699-9228-58b0aa7928d6",
   "metadata": {},
   "outputs": [
    {
     "data": {
      "text/html": [
       "<div>\n",
       "<style scoped>\n",
       "    .dataframe tbody tr th:only-of-type {\n",
       "        vertical-align: middle;\n",
       "    }\n",
       "\n",
       "    .dataframe tbody tr th {\n",
       "        vertical-align: top;\n",
       "    }\n",
       "\n",
       "    .dataframe thead th {\n",
       "        text-align: right;\n",
       "    }\n",
       "</style>\n",
       "<table border=\"1\" class=\"dataframe\">\n",
       "  <thead>\n",
       "    <tr style=\"text-align: right;\">\n",
       "      <th></th>\n",
       "      <th>user_id</th>\n",
       "      <th>Gender</th>\n",
       "      <th>STATE</th>\n",
       "      <th>Age</th>\n",
       "      <th>date_joined</th>\n",
       "      <th>n_dependants</th>\n",
       "      <th>fam_status</th>\n",
       "      <th>income</th>\n",
       "    </tr>\n",
       "  </thead>\n",
       "  <tbody>\n",
       "  </tbody>\n",
       "</table>\n",
       "</div>"
      ],
      "text/plain": [
       "Empty DataFrame\n",
       "Columns: [user_id, Gender, STATE, Age, date_joined, n_dependants, fam_status, income]\n",
       "Index: []"
      ]
     },
     "execution_count": 24,
     "metadata": {},
     "output_type": "execute_result"
    }
   ],
   "source": [
    "df_dups"
   ]
  },
  {
   "cell_type": "markdown",
   "id": "28e3d961-215d-4145-94f0-b1035fb23cb7",
   "metadata": {},
   "source": [
    "### There are no duplicates"
   ]
  },
  {
   "cell_type": "markdown",
   "id": "35c31f28-3318-4dfa-a79d-fbb9e5710552",
   "metadata": {},
   "source": [
    "# Checks on next file"
   ]
  },
  {
   "cell_type": "code",
   "execution_count": 25,
   "id": "be1c64d6-548d-4068-9838-4a15a61d9354",
   "metadata": {},
   "outputs": [
    {
     "data": {
      "text/plain": [
       "(32404859, 24)"
      ]
     },
     "execution_count": 25,
     "metadata": {},
     "output_type": "execute_result"
    }
   ],
   "source": [
    "df_ords_prods_merge.shape"
   ]
  },
  {
   "cell_type": "code",
   "execution_count": 26,
   "id": "7df94114-f6fb-48e6-a1e3-bee3de2cf798",
   "metadata": {},
   "outputs": [
    {
     "data": {
      "text/plain": [
       "product_id                     int32\n",
       "product_name                  object\n",
       "aisle_id                       int16\n",
       "department_id                  int32\n",
       "prices                       float64\n",
       "order_id                       int32\n",
       "user_id                        int32\n",
       "order_number                    int8\n",
       "orders_day_of_week              int8\n",
       "order_hour_of_day               int8\n",
       "days_since_prior_order       float16\n",
       "add_to_cart_order              int32\n",
       "reordered                       int8\n",
       "_merge                      category\n",
       "price_range_loc               object\n",
       "busiest_day                   object\n",
       "busiest_days                  object\n",
       "busiest_period_of_day         object\n",
       "max_order                       int8\n",
       "loyalty_flag                  object\n",
       "average_spent                float64\n",
       "spending_flag                 object\n",
       "median_days_since_orders     float16\n",
       "order_frequency_flag          object\n",
       "dtype: object"
      ]
     },
     "execution_count": 26,
     "metadata": {},
     "output_type": "execute_result"
    }
   ],
   "source": [
    "df_ords_prods_merge.dtypes"
   ]
  },
  {
   "cell_type": "code",
   "execution_count": 27,
   "id": "94e06904-5652-483e-af0c-70da037162f6",
   "metadata": {},
   "outputs": [
    {
     "data": {
      "text/plain": [
       "_merge\n",
       "both          32404859\n",
       "left_only            0\n",
       "right_only           0\n",
       "Name: count, dtype: int64"
      ]
     },
     "execution_count": 27,
     "metadata": {},
     "output_type": "execute_result"
    }
   ],
   "source": [
    "df_ords_prods_merge['_merge'].value_counts()"
   ]
  },
  {
   "cell_type": "markdown",
   "id": "8522ef76-ef0b-4ac6-82b4-ba99190bafd9",
   "metadata": {},
   "source": [
    "## Drop columns: _merge (confirmed it was a good merge), busiest_day (from 4.7 not needed)"
   ]
  },
  {
   "cell_type": "code",
   "execution_count": 28,
   "id": "d775d8b4-2ed5-4b4c-8792-95c9854e91a9",
   "metadata": {},
   "outputs": [],
   "source": [
    "df_ords_prods_merge.drop(['_merge', 'busiest_day'], axis=1, inplace=True)"
   ]
  },
  {
   "cell_type": "markdown",
   "id": "f9cab5cc-7d04-4fb5-9337-7cf59a6f0375",
   "metadata": {},
   "source": [
    "# Merge both customers and past pkl file from Task on 4.8 exercise"
   ]
  },
  {
   "cell_type": "code",
   "execution_count": 29,
   "id": "bc7252b3-5fc3-4859-b776-c8009936ebf1",
   "metadata": {},
   "outputs": [
    {
     "data": {
      "text/plain": [
       "(32404859, 22)"
      ]
     },
     "execution_count": 29,
     "metadata": {},
     "output_type": "execute_result"
    }
   ],
   "source": [
    "df_ords_prods_merge.shape"
   ]
  },
  {
   "cell_type": "code",
   "execution_count": 30,
   "id": "46f01545-83f9-411d-a8c1-267deb95a563",
   "metadata": {},
   "outputs": [
    {
     "data": {
      "text/plain": [
       "Index(['product_id', 'product_name', 'aisle_id', 'department_id', 'prices',\n",
       "       'order_id', 'user_id', 'order_number', 'orders_day_of_week',\n",
       "       'order_hour_of_day', 'days_since_prior_order', 'add_to_cart_order',\n",
       "       'reordered', 'price_range_loc', 'busiest_days', 'busiest_period_of_day',\n",
       "       'max_order', 'loyalty_flag', 'average_spent', 'spending_flag',\n",
       "       'median_days_since_orders', 'order_frequency_flag'],\n",
       "      dtype='object')"
      ]
     },
     "execution_count": 30,
     "metadata": {},
     "output_type": "execute_result"
    }
   ],
   "source": [
    "df_ords_prods_merge.columns"
   ]
  },
  {
   "cell_type": "code",
   "execution_count": 31,
   "id": "df99df7a-2a72-4462-b303-ca4923603349",
   "metadata": {},
   "outputs": [],
   "source": [
    "df_merged = df_ords_prods_merge.merge(df_customers, on='user_id', how='left', indicator=True)"
   ]
  },
  {
   "cell_type": "markdown",
   "id": "70d5b120-2fd0-42dd-b92f-721df7963759",
   "metadata": {},
   "source": [
    "### Merged left to attach the customer info onto the ords_prods info.  The number of rows should be the same as the latter with the added columns"
   ]
  },
  {
   "cell_type": "code",
   "execution_count": 32,
   "id": "b9630b60-8e1d-4955-b087-4c7a36e05fe6",
   "metadata": {},
   "outputs": [
    {
     "data": {
      "text/plain": [
       "(32404859, 30)"
      ]
     },
     "execution_count": 32,
     "metadata": {},
     "output_type": "execute_result"
    }
   ],
   "source": [
    "df_merged.shape"
   ]
  },
  {
   "cell_type": "markdown",
   "id": "8259c89b-fce1-479f-bf54-7650b299f5ad",
   "metadata": {},
   "source": [
    "#### The number of rows is the same"
   ]
  },
  {
   "cell_type": "code",
   "execution_count": 33,
   "id": "5997e6d2-2b62-4679-a233-a806fe59e53a",
   "metadata": {},
   "outputs": [
    {
     "data": {
      "text/html": [
       "<div>\n",
       "<style scoped>\n",
       "    .dataframe tbody tr th:only-of-type {\n",
       "        vertical-align: middle;\n",
       "    }\n",
       "\n",
       "    .dataframe tbody tr th {\n",
       "        vertical-align: top;\n",
       "    }\n",
       "\n",
       "    .dataframe thead th {\n",
       "        text-align: right;\n",
       "    }\n",
       "</style>\n",
       "<table border=\"1\" class=\"dataframe\">\n",
       "  <thead>\n",
       "    <tr style=\"text-align: right;\">\n",
       "      <th></th>\n",
       "      <th>product_id</th>\n",
       "      <th>product_name</th>\n",
       "      <th>aisle_id</th>\n",
       "      <th>department_id</th>\n",
       "      <th>prices</th>\n",
       "      <th>order_id</th>\n",
       "      <th>user_id</th>\n",
       "      <th>order_number</th>\n",
       "      <th>orders_day_of_week</th>\n",
       "      <th>order_hour_of_day</th>\n",
       "      <th>...</th>\n",
       "      <th>median_days_since_orders</th>\n",
       "      <th>order_frequency_flag</th>\n",
       "      <th>Gender</th>\n",
       "      <th>STATE</th>\n",
       "      <th>Age</th>\n",
       "      <th>date_joined</th>\n",
       "      <th>n_dependants</th>\n",
       "      <th>fam_status</th>\n",
       "      <th>income</th>\n",
       "      <th>_merge</th>\n",
       "    </tr>\n",
       "  </thead>\n",
       "  <tbody>\n",
       "    <tr>\n",
       "      <th>0</th>\n",
       "      <td>1</td>\n",
       "      <td>Chocolate Sandwich Cookies</td>\n",
       "      <td>61</td>\n",
       "      <td>19</td>\n",
       "      <td>5.800781</td>\n",
       "      <td>1107</td>\n",
       "      <td>38259</td>\n",
       "      <td>2</td>\n",
       "      <td>1</td>\n",
       "      <td>11</td>\n",
       "      <td>...</td>\n",
       "      <td>30.0</td>\n",
       "      <td>Non-frequent customer</td>\n",
       "      <td>Female</td>\n",
       "      <td>District of Columbia</td>\n",
       "      <td>68</td>\n",
       "      <td>6/30/2019</td>\n",
       "      <td>2</td>\n",
       "      <td>married</td>\n",
       "      <td>142744</td>\n",
       "      <td>both</td>\n",
       "    </tr>\n",
       "    <tr>\n",
       "      <th>1</th>\n",
       "      <td>1</td>\n",
       "      <td>Chocolate Sandwich Cookies</td>\n",
       "      <td>61</td>\n",
       "      <td>19</td>\n",
       "      <td>5.800781</td>\n",
       "      <td>5319</td>\n",
       "      <td>196224</td>\n",
       "      <td>65</td>\n",
       "      <td>1</td>\n",
       "      <td>14</td>\n",
       "      <td>...</td>\n",
       "      <td>1.0</td>\n",
       "      <td>Frequent customer</td>\n",
       "      <td>Male</td>\n",
       "      <td>New York</td>\n",
       "      <td>48</td>\n",
       "      <td>4/29/2018</td>\n",
       "      <td>2</td>\n",
       "      <td>married</td>\n",
       "      <td>43906</td>\n",
       "      <td>both</td>\n",
       "    </tr>\n",
       "    <tr>\n",
       "      <th>2</th>\n",
       "      <td>1</td>\n",
       "      <td>Chocolate Sandwich Cookies</td>\n",
       "      <td>61</td>\n",
       "      <td>19</td>\n",
       "      <td>5.800781</td>\n",
       "      <td>7540</td>\n",
       "      <td>138499</td>\n",
       "      <td>8</td>\n",
       "      <td>0</td>\n",
       "      <td>14</td>\n",
       "      <td>...</td>\n",
       "      <td>7.0</td>\n",
       "      <td>Frequent customer</td>\n",
       "      <td>Female</td>\n",
       "      <td>Massachusetts</td>\n",
       "      <td>31</td>\n",
       "      <td>3/11/2017</td>\n",
       "      <td>2</td>\n",
       "      <td>married</td>\n",
       "      <td>78505</td>\n",
       "      <td>both</td>\n",
       "    </tr>\n",
       "    <tr>\n",
       "      <th>3</th>\n",
       "      <td>1</td>\n",
       "      <td>Chocolate Sandwich Cookies</td>\n",
       "      <td>61</td>\n",
       "      <td>19</td>\n",
       "      <td>5.800781</td>\n",
       "      <td>9228</td>\n",
       "      <td>79603</td>\n",
       "      <td>2</td>\n",
       "      <td>2</td>\n",
       "      <td>10</td>\n",
       "      <td>...</td>\n",
       "      <td>30.0</td>\n",
       "      <td>Non-frequent customer</td>\n",
       "      <td>Male</td>\n",
       "      <td>Tennessee</td>\n",
       "      <td>65</td>\n",
       "      <td>10/27/2019</td>\n",
       "      <td>1</td>\n",
       "      <td>married</td>\n",
       "      <td>51010</td>\n",
       "      <td>both</td>\n",
       "    </tr>\n",
       "    <tr>\n",
       "      <th>4</th>\n",
       "      <td>1</td>\n",
       "      <td>Chocolate Sandwich Cookies</td>\n",
       "      <td>61</td>\n",
       "      <td>19</td>\n",
       "      <td>5.800781</td>\n",
       "      <td>9273</td>\n",
       "      <td>50005</td>\n",
       "      <td>1</td>\n",
       "      <td>1</td>\n",
       "      <td>15</td>\n",
       "      <td>...</td>\n",
       "      <td>7.0</td>\n",
       "      <td>Frequent customer</td>\n",
       "      <td>Male</td>\n",
       "      <td>New Jersey</td>\n",
       "      <td>75</td>\n",
       "      <td>4/9/2019</td>\n",
       "      <td>3</td>\n",
       "      <td>married</td>\n",
       "      <td>115468</td>\n",
       "      <td>both</td>\n",
       "    </tr>\n",
       "  </tbody>\n",
       "</table>\n",
       "<p>5 rows × 30 columns</p>\n",
       "</div>"
      ],
      "text/plain": [
       "   product_id                product_name  aisle_id  department_id    prices  \\\n",
       "0           1  Chocolate Sandwich Cookies        61             19  5.800781   \n",
       "1           1  Chocolate Sandwich Cookies        61             19  5.800781   \n",
       "2           1  Chocolate Sandwich Cookies        61             19  5.800781   \n",
       "3           1  Chocolate Sandwich Cookies        61             19  5.800781   \n",
       "4           1  Chocolate Sandwich Cookies        61             19  5.800781   \n",
       "\n",
       "   order_id  user_id  order_number  orders_day_of_week  order_hour_of_day  \\\n",
       "0      1107    38259             2                   1                 11   \n",
       "1      5319   196224            65                   1                 14   \n",
       "2      7540   138499             8                   0                 14   \n",
       "3      9228    79603             2                   2                 10   \n",
       "4      9273    50005             1                   1                 15   \n",
       "\n",
       "   ...  median_days_since_orders   order_frequency_flag  Gender  \\\n",
       "0  ...                      30.0  Non-frequent customer  Female   \n",
       "1  ...                       1.0      Frequent customer    Male   \n",
       "2  ...                       7.0      Frequent customer  Female   \n",
       "3  ...                      30.0  Non-frequent customer    Male   \n",
       "4  ...                       7.0      Frequent customer    Male   \n",
       "\n",
       "                  STATE Age date_joined  n_dependants fam_status  income  \\\n",
       "0  District of Columbia  68   6/30/2019             2    married  142744   \n",
       "1              New York  48   4/29/2018             2    married   43906   \n",
       "2         Massachusetts  31   3/11/2017             2    married   78505   \n",
       "3             Tennessee  65  10/27/2019             1    married   51010   \n",
       "4            New Jersey  75    4/9/2019             3    married  115468   \n",
       "\n",
       "  _merge  \n",
       "0   both  \n",
       "1   both  \n",
       "2   both  \n",
       "3   both  \n",
       "4   both  \n",
       "\n",
       "[5 rows x 30 columns]"
      ]
     },
     "execution_count": 33,
     "metadata": {},
     "output_type": "execute_result"
    }
   ],
   "source": [
    "df_merged.head()"
   ]
  },
  {
   "cell_type": "code",
   "execution_count": 34,
   "id": "49ae0e97-b38b-4209-8406-e2516b21bdc6",
   "metadata": {},
   "outputs": [
    {
     "data": {
      "text/plain": [
       "_merge\n",
       "both          32404859\n",
       "left_only            0\n",
       "right_only           0\n",
       "Name: count, dtype: int64"
      ]
     },
     "execution_count": 34,
     "metadata": {},
     "output_type": "execute_result"
    }
   ],
   "source": [
    "df_merged['_merge'].value_counts()"
   ]
  },
  {
   "cell_type": "code",
   "execution_count": 35,
   "id": "7fbc3d0f-ebf9-44c7-8169-874dc1721097",
   "metadata": {},
   "outputs": [
    {
     "data": {
      "text/plain": [
       "product_id                        0\n",
       "product_name                      0\n",
       "aisle_id                          0\n",
       "department_id                     0\n",
       "prices                            0\n",
       "order_id                          0\n",
       "user_id                           0\n",
       "order_number                      0\n",
       "orders_day_of_week                0\n",
       "order_hour_of_day                 0\n",
       "days_since_prior_order      2076096\n",
       "add_to_cart_order                 0\n",
       "reordered                         0\n",
       "price_range_loc                   0\n",
       "busiest_days                      0\n",
       "busiest_period_of_day             0\n",
       "max_order                         0\n",
       "loyalty_flag                      0\n",
       "average_spent                     0\n",
       "spending_flag                     0\n",
       "median_days_since_orders          5\n",
       "order_frequency_flag              5\n",
       "Gender                            0\n",
       "STATE                             0\n",
       "Age                               0\n",
       "date_joined                       0\n",
       "n_dependants                      0\n",
       "fam_status                        0\n",
       "income                            0\n",
       "_merge                            0\n",
       "dtype: int64"
      ]
     },
     "execution_count": 35,
     "metadata": {},
     "output_type": "execute_result"
    }
   ],
   "source": [
    "# Find Missing Values \n",
    "df_merged.isnull().sum()"
   ]
  },
  {
   "cell_type": "code",
   "execution_count": 36,
   "id": "cbbe8a9b-8353-4cd4-83d8-07e92016339e",
   "metadata": {},
   "outputs": [
    {
     "data": {
      "text/plain": [
       "product_id                        0\n",
       "product_name                      0\n",
       "aisle_id                          0\n",
       "department_id                     0\n",
       "prices                            0\n",
       "order_id                          0\n",
       "user_id                           0\n",
       "order_number                      0\n",
       "orders_day_of_week                0\n",
       "order_hour_of_day                 0\n",
       "days_since_prior_order      2076096\n",
       "add_to_cart_order                 0\n",
       "reordered                         0\n",
       "price_range_loc                   0\n",
       "busiest_days                      0\n",
       "busiest_period_of_day             0\n",
       "max_order                         0\n",
       "loyalty_flag                      0\n",
       "average_spent                     0\n",
       "spending_flag                     0\n",
       "median_days_since_orders          5\n",
       "order_frequency_flag              5\n",
       "dtype: int64"
      ]
     },
     "execution_count": 36,
     "metadata": {},
     "output_type": "execute_result"
    }
   ],
   "source": [
    "df_ords_prods_merge.isnull().sum()"
   ]
  },
  {
   "cell_type": "markdown",
   "id": "470a34d4-f9d8-421d-8804-0cd180858f16",
   "metadata": {},
   "source": [
    "### The same missing values.  Days since prior order OK.  "
   ]
  },
  {
   "cell_type": "code",
   "execution_count": 37,
   "id": "09ef4491-ff3c-4f99-b7da-9e8f91104b8e",
   "metadata": {},
   "outputs": [],
   "source": [
    "# Look for duplicates\n",
    "df_dups_merge = df_merged[df_merged.duplicated()]"
   ]
  },
  {
   "cell_type": "code",
   "execution_count": 38,
   "id": "6b99e3f6-95fa-45df-920a-db58a14657e8",
   "metadata": {},
   "outputs": [
    {
     "data": {
      "text/html": [
       "<div>\n",
       "<style scoped>\n",
       "    .dataframe tbody tr th:only-of-type {\n",
       "        vertical-align: middle;\n",
       "    }\n",
       "\n",
       "    .dataframe tbody tr th {\n",
       "        vertical-align: top;\n",
       "    }\n",
       "\n",
       "    .dataframe thead th {\n",
       "        text-align: right;\n",
       "    }\n",
       "</style>\n",
       "<table border=\"1\" class=\"dataframe\">\n",
       "  <thead>\n",
       "    <tr style=\"text-align: right;\">\n",
       "      <th></th>\n",
       "      <th>product_id</th>\n",
       "      <th>product_name</th>\n",
       "      <th>aisle_id</th>\n",
       "      <th>department_id</th>\n",
       "      <th>prices</th>\n",
       "      <th>order_id</th>\n",
       "      <th>user_id</th>\n",
       "      <th>order_number</th>\n",
       "      <th>orders_day_of_week</th>\n",
       "      <th>order_hour_of_day</th>\n",
       "      <th>...</th>\n",
       "      <th>median_days_since_orders</th>\n",
       "      <th>order_frequency_flag</th>\n",
       "      <th>Gender</th>\n",
       "      <th>STATE</th>\n",
       "      <th>Age</th>\n",
       "      <th>date_joined</th>\n",
       "      <th>n_dependants</th>\n",
       "      <th>fam_status</th>\n",
       "      <th>income</th>\n",
       "      <th>_merge</th>\n",
       "    </tr>\n",
       "  </thead>\n",
       "  <tbody>\n",
       "  </tbody>\n",
       "</table>\n",
       "<p>0 rows × 30 columns</p>\n",
       "</div>"
      ],
      "text/plain": [
       "Empty DataFrame\n",
       "Columns: [product_id, product_name, aisle_id, department_id, prices, order_id, user_id, order_number, orders_day_of_week, order_hour_of_day, days_since_prior_order, add_to_cart_order, reordered, price_range_loc, busiest_days, busiest_period_of_day, max_order, loyalty_flag, average_spent, spending_flag, median_days_since_orders, order_frequency_flag, Gender, STATE, Age, date_joined, n_dependants, fam_status, income, _merge]\n",
       "Index: []\n",
       "\n",
       "[0 rows x 30 columns]"
      ]
     },
     "execution_count": 38,
     "metadata": {},
     "output_type": "execute_result"
    }
   ],
   "source": [
    "df_dups_merge"
   ]
  },
  {
   "cell_type": "code",
   "execution_count": 39,
   "id": "c8fcd748-0a6c-4d56-b280-f1cd52ea5def",
   "metadata": {},
   "outputs": [
    {
     "data": {
      "text/plain": [
       "(0, 30)"
      ]
     },
     "execution_count": 39,
     "metadata": {},
     "output_type": "execute_result"
    }
   ],
   "source": [
    "df_dups_merge.shape"
   ]
  },
  {
   "cell_type": "code",
   "execution_count": 40,
   "id": "d1412d01-6464-4534-9557-782398ca667a",
   "metadata": {},
   "outputs": [
    {
     "data": {
      "text/plain": [
       "(32404859, 30)"
      ]
     },
     "execution_count": 40,
     "metadata": {},
     "output_type": "execute_result"
    }
   ],
   "source": [
    "df_merged.shape"
   ]
  },
  {
   "cell_type": "code",
   "execution_count": 41,
   "id": "3e8122cd-f999-4469-a7cf-2c5ab6d3274c",
   "metadata": {},
   "outputs": [],
   "source": [
    "df_merged_nodups = df_merged.drop_duplicates()"
   ]
  },
  {
   "cell_type": "code",
   "execution_count": 42,
   "id": "58368d8b-52f1-4da9-853e-fedbc439992f",
   "metadata": {},
   "outputs": [
    {
     "data": {
      "text/plain": [
       "(32404859, 30)"
      ]
     },
     "execution_count": 42,
     "metadata": {},
     "output_type": "execute_result"
    }
   ],
   "source": [
    "df_merged_nodups.shape"
   ]
  },
  {
   "cell_type": "markdown",
   "id": "dbd3295b-5f2c-4ad1-af27-c36a2b019209",
   "metadata": {},
   "source": [
    "### Duplicates removed OK"
   ]
  },
  {
   "cell_type": "code",
   "execution_count": 43,
   "id": "6ac70633-3daf-47e7-b5b0-687e69b63491",
   "metadata": {},
   "outputs": [
    {
     "data": {
      "text/html": [
       "<div>\n",
       "<style scoped>\n",
       "    .dataframe tbody tr th:only-of-type {\n",
       "        vertical-align: middle;\n",
       "    }\n",
       "\n",
       "    .dataframe tbody tr th {\n",
       "        vertical-align: top;\n",
       "    }\n",
       "\n",
       "    .dataframe thead th {\n",
       "        text-align: right;\n",
       "    }\n",
       "</style>\n",
       "<table border=\"1\" class=\"dataframe\">\n",
       "  <thead>\n",
       "    <tr style=\"text-align: right;\">\n",
       "      <th></th>\n",
       "      <th>product_id</th>\n",
       "      <th>product_name</th>\n",
       "      <th>aisle_id</th>\n",
       "      <th>department_id</th>\n",
       "      <th>prices</th>\n",
       "      <th>order_id</th>\n",
       "      <th>user_id</th>\n",
       "      <th>order_number</th>\n",
       "      <th>orders_day_of_week</th>\n",
       "      <th>order_hour_of_day</th>\n",
       "      <th>...</th>\n",
       "      <th>median_days_since_orders</th>\n",
       "      <th>order_frequency_flag</th>\n",
       "      <th>Gender</th>\n",
       "      <th>STATE</th>\n",
       "      <th>Age</th>\n",
       "      <th>date_joined</th>\n",
       "      <th>n_dependants</th>\n",
       "      <th>fam_status</th>\n",
       "      <th>income</th>\n",
       "      <th>_merge</th>\n",
       "    </tr>\n",
       "  </thead>\n",
       "  <tbody>\n",
       "    <tr>\n",
       "      <th>0</th>\n",
       "      <td>1</td>\n",
       "      <td>Chocolate Sandwich Cookies</td>\n",
       "      <td>61</td>\n",
       "      <td>19</td>\n",
       "      <td>5.800781</td>\n",
       "      <td>1107</td>\n",
       "      <td>38259</td>\n",
       "      <td>2</td>\n",
       "      <td>1</td>\n",
       "      <td>11</td>\n",
       "      <td>...</td>\n",
       "      <td>30.0</td>\n",
       "      <td>Non-frequent customer</td>\n",
       "      <td>Female</td>\n",
       "      <td>District of Columbia</td>\n",
       "      <td>68</td>\n",
       "      <td>6/30/2019</td>\n",
       "      <td>2</td>\n",
       "      <td>married</td>\n",
       "      <td>142744</td>\n",
       "      <td>both</td>\n",
       "    </tr>\n",
       "    <tr>\n",
       "      <th>1</th>\n",
       "      <td>1</td>\n",
       "      <td>Chocolate Sandwich Cookies</td>\n",
       "      <td>61</td>\n",
       "      <td>19</td>\n",
       "      <td>5.800781</td>\n",
       "      <td>5319</td>\n",
       "      <td>196224</td>\n",
       "      <td>65</td>\n",
       "      <td>1</td>\n",
       "      <td>14</td>\n",
       "      <td>...</td>\n",
       "      <td>1.0</td>\n",
       "      <td>Frequent customer</td>\n",
       "      <td>Male</td>\n",
       "      <td>New York</td>\n",
       "      <td>48</td>\n",
       "      <td>4/29/2018</td>\n",
       "      <td>2</td>\n",
       "      <td>married</td>\n",
       "      <td>43906</td>\n",
       "      <td>both</td>\n",
       "    </tr>\n",
       "    <tr>\n",
       "      <th>2</th>\n",
       "      <td>1</td>\n",
       "      <td>Chocolate Sandwich Cookies</td>\n",
       "      <td>61</td>\n",
       "      <td>19</td>\n",
       "      <td>5.800781</td>\n",
       "      <td>7540</td>\n",
       "      <td>138499</td>\n",
       "      <td>8</td>\n",
       "      <td>0</td>\n",
       "      <td>14</td>\n",
       "      <td>...</td>\n",
       "      <td>7.0</td>\n",
       "      <td>Frequent customer</td>\n",
       "      <td>Female</td>\n",
       "      <td>Massachusetts</td>\n",
       "      <td>31</td>\n",
       "      <td>3/11/2017</td>\n",
       "      <td>2</td>\n",
       "      <td>married</td>\n",
       "      <td>78505</td>\n",
       "      <td>both</td>\n",
       "    </tr>\n",
       "    <tr>\n",
       "      <th>3</th>\n",
       "      <td>1</td>\n",
       "      <td>Chocolate Sandwich Cookies</td>\n",
       "      <td>61</td>\n",
       "      <td>19</td>\n",
       "      <td>5.800781</td>\n",
       "      <td>9228</td>\n",
       "      <td>79603</td>\n",
       "      <td>2</td>\n",
       "      <td>2</td>\n",
       "      <td>10</td>\n",
       "      <td>...</td>\n",
       "      <td>30.0</td>\n",
       "      <td>Non-frequent customer</td>\n",
       "      <td>Male</td>\n",
       "      <td>Tennessee</td>\n",
       "      <td>65</td>\n",
       "      <td>10/27/2019</td>\n",
       "      <td>1</td>\n",
       "      <td>married</td>\n",
       "      <td>51010</td>\n",
       "      <td>both</td>\n",
       "    </tr>\n",
       "    <tr>\n",
       "      <th>4</th>\n",
       "      <td>1</td>\n",
       "      <td>Chocolate Sandwich Cookies</td>\n",
       "      <td>61</td>\n",
       "      <td>19</td>\n",
       "      <td>5.800781</td>\n",
       "      <td>9273</td>\n",
       "      <td>50005</td>\n",
       "      <td>1</td>\n",
       "      <td>1</td>\n",
       "      <td>15</td>\n",
       "      <td>...</td>\n",
       "      <td>7.0</td>\n",
       "      <td>Frequent customer</td>\n",
       "      <td>Male</td>\n",
       "      <td>New Jersey</td>\n",
       "      <td>75</td>\n",
       "      <td>4/9/2019</td>\n",
       "      <td>3</td>\n",
       "      <td>married</td>\n",
       "      <td>115468</td>\n",
       "      <td>both</td>\n",
       "    </tr>\n",
       "  </tbody>\n",
       "</table>\n",
       "<p>5 rows × 30 columns</p>\n",
       "</div>"
      ],
      "text/plain": [
       "   product_id                product_name  aisle_id  department_id    prices  \\\n",
       "0           1  Chocolate Sandwich Cookies        61             19  5.800781   \n",
       "1           1  Chocolate Sandwich Cookies        61             19  5.800781   \n",
       "2           1  Chocolate Sandwich Cookies        61             19  5.800781   \n",
       "3           1  Chocolate Sandwich Cookies        61             19  5.800781   \n",
       "4           1  Chocolate Sandwich Cookies        61             19  5.800781   \n",
       "\n",
       "   order_id  user_id  order_number  orders_day_of_week  order_hour_of_day  \\\n",
       "0      1107    38259             2                   1                 11   \n",
       "1      5319   196224            65                   1                 14   \n",
       "2      7540   138499             8                   0                 14   \n",
       "3      9228    79603             2                   2                 10   \n",
       "4      9273    50005             1                   1                 15   \n",
       "\n",
       "   ...  median_days_since_orders   order_frequency_flag  Gender  \\\n",
       "0  ...                      30.0  Non-frequent customer  Female   \n",
       "1  ...                       1.0      Frequent customer    Male   \n",
       "2  ...                       7.0      Frequent customer  Female   \n",
       "3  ...                      30.0  Non-frequent customer    Male   \n",
       "4  ...                       7.0      Frequent customer    Male   \n",
       "\n",
       "                  STATE Age date_joined  n_dependants fam_status  income  \\\n",
       "0  District of Columbia  68   6/30/2019             2    married  142744   \n",
       "1              New York  48   4/29/2018             2    married   43906   \n",
       "2         Massachusetts  31   3/11/2017             2    married   78505   \n",
       "3             Tennessee  65  10/27/2019             1    married   51010   \n",
       "4            New Jersey  75    4/9/2019             3    married  115468   \n",
       "\n",
       "  _merge  \n",
       "0   both  \n",
       "1   both  \n",
       "2   both  \n",
       "3   both  \n",
       "4   both  \n",
       "\n",
       "[5 rows x 30 columns]"
      ]
     },
     "execution_count": 43,
     "metadata": {},
     "output_type": "execute_result"
    }
   ],
   "source": [
    "df_merged_nodups.head()"
   ]
  },
  {
   "cell_type": "code",
   "execution_count": 44,
   "id": "803a6444-7683-4805-9bfb-b9e4891c0049",
   "metadata": {},
   "outputs": [
    {
     "data": {
      "text/plain": [
       "Index(['product_id', 'product_name', 'aisle_id', 'department_id', 'prices',\n",
       "       'order_id', 'user_id', 'order_number', 'orders_day_of_week',\n",
       "       'order_hour_of_day', 'days_since_prior_order', 'add_to_cart_order',\n",
       "       'reordered', 'price_range_loc', 'busiest_days', 'busiest_period_of_day',\n",
       "       'max_order', 'loyalty_flag', 'average_spent', 'spending_flag',\n",
       "       'median_days_since_orders', 'order_frequency_flag', 'Gender', 'STATE',\n",
       "       'Age', 'date_joined', 'n_dependants', 'fam_status', 'income', '_merge'],\n",
       "      dtype='object')"
      ]
     },
     "execution_count": 44,
     "metadata": {},
     "output_type": "execute_result"
    }
   ],
   "source": [
    "df_merged_nodups.columns"
   ]
  },
  {
   "cell_type": "code",
   "execution_count": 45,
   "id": "dec5bddd-a26b-4050-92d8-445c6b9a7111",
   "metadata": {},
   "outputs": [
    {
     "data": {
      "text/plain": [
       "(32404859, 30)"
      ]
     },
     "execution_count": 45,
     "metadata": {},
     "output_type": "execute_result"
    }
   ],
   "source": [
    "df_merged_nodups.shape"
   ]
  },
  {
   "cell_type": "markdown",
   "id": "30bd53bc-d1db-4100-b40c-7cf58186a15a",
   "metadata": {},
   "source": [
    "# Export data to pkl"
   ]
  },
  {
   "cell_type": "code",
   "execution_count": 46,
   "id": "d6987306-0ea8-408d-8a48-21b62ba2a466",
   "metadata": {},
   "outputs": [],
   "source": [
    "df_merged_nodups.to_pickle(os.path.join(path, '02 Data','Prepared Data', 'orders_products_customers.pkl'))"
   ]
  }
 ],
 "metadata": {
  "kernelspec": {
   "display_name": "Python 3 (ipykernel)",
   "language": "python",
   "name": "python3"
  },
  "language_info": {
   "codemirror_mode": {
    "name": "ipython",
    "version": 3
   },
   "file_extension": ".py",
   "mimetype": "text/x-python",
   "name": "python",
   "nbconvert_exporter": "python",
   "pygments_lexer": "ipython3",
   "version": "3.12.7"
  }
 },
 "nbformat": 4,
 "nbformat_minor": 5
}
