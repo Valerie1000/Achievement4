{
 "cells": [
  {
   "cell_type": "markdown",
   "id": "d1156882-2ff9-45a9-a526-e60faebdde76",
   "metadata": {},
   "source": [
    "# Table of Contents for 4.10 Coding Etiquette and Excel Reporting\n",
    "    Import libraries, set path, import file (orders_products_customers.pkl)\n",
    "    Perform checks (shape, columns, head)\n",
    "    Define region_map fto create a Region column based on the state column by regions: Northeast, Midwest, South, West\n",
    "        Get value_counts for STATE and Region\n",
    "    Determine whether there’s a difference in spending habits between the different U.S. regions\n",
    "        Create region_spending variable using a cross of Region and spending_flag columns\n",
    "        Create a bar chart plotting Region vs. percentage of spending_flag \n",
    "        Save as plot\n",
    "        Export as spending_habits_by_region.png\n",
    "        Get the value_counts for spending_flag\n",
    "    Create a low_activity_flag for low-activity customers (with less than 5 orders)\n",
    "        Exlude these customers from the data (rows: 24414877)\n",
    "        Export as final.pkl\n",
    "    Create a list for profile_customer to apply as a column profile on df : \n",
    "        Young single adult, Young parent, Affluent professional, Busy family, Senior shopper and General shopper\n",
    "        Get the profile value_counts\n",
    "        Create a visualization to show the distribution of profiles\n",
    "            Save as plot_1.  \n",
    "            Export as distribution_customer_profiles.png\n",
    "    Aggregate the max, mean, and min variables on a customer-profile level for usage frequency and expenditure\n",
    "    Compare by region using crosstab and percentages \n",
    "        Visualize as plot_2\n",
    "        Export as customer_profile_by_region.png\n",
    "    Compare by department using crosstab and percentages\n",
    "        Visualize as plot_3\n",
    "        Export as customer_profile_by_department.png\n",
    "        Create a department_map to switch the department numbers to their respective department names\n",
    "        Viaualiza again as plot_3a\n",
    "        Export as customer_profile_by_department_labeled.png\n",
    "    Export the final_active df as final_active.pkl   \n",
    "    "
   ]
  },
  {
   "cell_type": "markdown",
   "id": "b27f5d16-e65f-44da-b88b-79eb924cc95c",
   "metadata": {},
   "source": [
    "# Importing libraries"
   ]
  },
  {
   "cell_type": "code",
   "execution_count": 1,
   "id": "d42f6c76-8586-4820-a7d8-5afde0e84cb6",
   "metadata": {},
   "outputs": [],
   "source": [
    "import pandas as pd\n",
    "import numpy as np\n",
    "import os\n",
    "import matplotlib.pyplot as plt\n",
    "import seaborn as sns\n",
    "import scipy"
   ]
  },
  {
   "cell_type": "markdown",
   "id": "24639fa1-cb32-40f9-8372-9859b79fb34f",
   "metadata": {},
   "source": [
    "# Set path"
   ]
  },
  {
   "cell_type": "code",
   "execution_count": 2,
   "id": "41e53512-b23e-4e10-9daf-fdcfd6f35001",
   "metadata": {},
   "outputs": [],
   "source": [
    "path = r'C:\\Users\\valev\\Desktop\\0325 Instacart Basket Analysis'"
   ]
  },
  {
   "cell_type": "markdown",
   "id": "4644f742-e7aa-4485-ae46-417d19969bd7",
   "metadata": {},
   "source": [
    "# Import files"
   ]
  },
  {
   "cell_type": "code",
   "execution_count": 3,
   "id": "c84ffa2c-38eb-4d12-b32e-adba75ec5b98",
   "metadata": {},
   "outputs": [],
   "source": [
    "df_final = pd.read_pickle(os.path.join(path, '02 Data', 'Prepared Data', 'orders_products_customers.pkl' ))"
   ]
  },
  {
   "cell_type": "markdown",
   "id": "da600ef5-d263-45f1-8629-8a41b3160ede",
   "metadata": {},
   "source": [
    "# Check file"
   ]
  },
  {
   "cell_type": "code",
   "execution_count": 4,
   "id": "4e4c6bf9-f7a0-4cfe-a667-bb62e19864ae",
   "metadata": {},
   "outputs": [
    {
     "data": {
      "text/plain": [
       "(32404859, 30)"
      ]
     },
     "execution_count": 4,
     "metadata": {},
     "output_type": "execute_result"
    }
   ],
   "source": [
    "df_final.shape"
   ]
  },
  {
   "cell_type": "code",
   "execution_count": 5,
   "id": "15c35c20-8621-4adb-907e-f074a4f06d71",
   "metadata": {},
   "outputs": [
    {
     "data": {
      "text/plain": [
       "Index(['product_id', 'product_name', 'aisle_id', 'department_id', 'prices',\n",
       "       'order_id', 'user_id', 'order_number', 'orders_day_of_week',\n",
       "       'order_hour_of_day', 'days_since_prior_order', 'add_to_cart_order',\n",
       "       'reordered', 'price_range_loc', 'busiest_days', 'busiest_period_of_day',\n",
       "       'max_order', 'loyalty_flag', 'average_spent', 'spending_flag',\n",
       "       'median_days_since_orders', 'order_frequency_flag', 'Gender', 'STATE',\n",
       "       'Age', 'date_joined', 'n_dependants', 'fam_status', 'income', '_merge'],\n",
       "      dtype='object')"
      ]
     },
     "execution_count": 5,
     "metadata": {},
     "output_type": "execute_result"
    }
   ],
   "source": [
    "df_final.columns"
   ]
  },
  {
   "cell_type": "code",
   "execution_count": 6,
   "id": "20e75991-6eb7-4e8e-a5c0-b06491bd4c55",
   "metadata": {},
   "outputs": [
    {
     "data": {
      "text/html": [
       "<div>\n",
       "<style scoped>\n",
       "    .dataframe tbody tr th:only-of-type {\n",
       "        vertical-align: middle;\n",
       "    }\n",
       "\n",
       "    .dataframe tbody tr th {\n",
       "        vertical-align: top;\n",
       "    }\n",
       "\n",
       "    .dataframe thead th {\n",
       "        text-align: right;\n",
       "    }\n",
       "</style>\n",
       "<table border=\"1\" class=\"dataframe\">\n",
       "  <thead>\n",
       "    <tr style=\"text-align: right;\">\n",
       "      <th></th>\n",
       "      <th>product_id</th>\n",
       "      <th>product_name</th>\n",
       "      <th>aisle_id</th>\n",
       "      <th>department_id</th>\n",
       "      <th>prices</th>\n",
       "      <th>order_id</th>\n",
       "      <th>user_id</th>\n",
       "      <th>order_number</th>\n",
       "      <th>orders_day_of_week</th>\n",
       "      <th>order_hour_of_day</th>\n",
       "      <th>...</th>\n",
       "      <th>median_days_since_orders</th>\n",
       "      <th>order_frequency_flag</th>\n",
       "      <th>Gender</th>\n",
       "      <th>STATE</th>\n",
       "      <th>Age</th>\n",
       "      <th>date_joined</th>\n",
       "      <th>n_dependants</th>\n",
       "      <th>fam_status</th>\n",
       "      <th>income</th>\n",
       "      <th>_merge</th>\n",
       "    </tr>\n",
       "  </thead>\n",
       "  <tbody>\n",
       "    <tr>\n",
       "      <th>0</th>\n",
       "      <td>1</td>\n",
       "      <td>Chocolate Sandwich Cookies</td>\n",
       "      <td>61</td>\n",
       "      <td>19</td>\n",
       "      <td>5.800781</td>\n",
       "      <td>1107</td>\n",
       "      <td>38259</td>\n",
       "      <td>2</td>\n",
       "      <td>1</td>\n",
       "      <td>11</td>\n",
       "      <td>...</td>\n",
       "      <td>30.0</td>\n",
       "      <td>Non-frequent customer</td>\n",
       "      <td>Female</td>\n",
       "      <td>District of Columbia</td>\n",
       "      <td>68</td>\n",
       "      <td>6/30/2019</td>\n",
       "      <td>2</td>\n",
       "      <td>married</td>\n",
       "      <td>142744</td>\n",
       "      <td>both</td>\n",
       "    </tr>\n",
       "    <tr>\n",
       "      <th>1</th>\n",
       "      <td>1</td>\n",
       "      <td>Chocolate Sandwich Cookies</td>\n",
       "      <td>61</td>\n",
       "      <td>19</td>\n",
       "      <td>5.800781</td>\n",
       "      <td>5319</td>\n",
       "      <td>196224</td>\n",
       "      <td>65</td>\n",
       "      <td>1</td>\n",
       "      <td>14</td>\n",
       "      <td>...</td>\n",
       "      <td>1.0</td>\n",
       "      <td>Frequent customer</td>\n",
       "      <td>Male</td>\n",
       "      <td>New York</td>\n",
       "      <td>48</td>\n",
       "      <td>4/29/2018</td>\n",
       "      <td>2</td>\n",
       "      <td>married</td>\n",
       "      <td>43906</td>\n",
       "      <td>both</td>\n",
       "    </tr>\n",
       "    <tr>\n",
       "      <th>2</th>\n",
       "      <td>1</td>\n",
       "      <td>Chocolate Sandwich Cookies</td>\n",
       "      <td>61</td>\n",
       "      <td>19</td>\n",
       "      <td>5.800781</td>\n",
       "      <td>7540</td>\n",
       "      <td>138499</td>\n",
       "      <td>8</td>\n",
       "      <td>0</td>\n",
       "      <td>14</td>\n",
       "      <td>...</td>\n",
       "      <td>7.0</td>\n",
       "      <td>Frequent customer</td>\n",
       "      <td>Female</td>\n",
       "      <td>Massachusetts</td>\n",
       "      <td>31</td>\n",
       "      <td>3/11/2017</td>\n",
       "      <td>2</td>\n",
       "      <td>married</td>\n",
       "      <td>78505</td>\n",
       "      <td>both</td>\n",
       "    </tr>\n",
       "    <tr>\n",
       "      <th>3</th>\n",
       "      <td>1</td>\n",
       "      <td>Chocolate Sandwich Cookies</td>\n",
       "      <td>61</td>\n",
       "      <td>19</td>\n",
       "      <td>5.800781</td>\n",
       "      <td>9228</td>\n",
       "      <td>79603</td>\n",
       "      <td>2</td>\n",
       "      <td>2</td>\n",
       "      <td>10</td>\n",
       "      <td>...</td>\n",
       "      <td>30.0</td>\n",
       "      <td>Non-frequent customer</td>\n",
       "      <td>Male</td>\n",
       "      <td>Tennessee</td>\n",
       "      <td>65</td>\n",
       "      <td>10/27/2019</td>\n",
       "      <td>1</td>\n",
       "      <td>married</td>\n",
       "      <td>51010</td>\n",
       "      <td>both</td>\n",
       "    </tr>\n",
       "    <tr>\n",
       "      <th>4</th>\n",
       "      <td>1</td>\n",
       "      <td>Chocolate Sandwich Cookies</td>\n",
       "      <td>61</td>\n",
       "      <td>19</td>\n",
       "      <td>5.800781</td>\n",
       "      <td>9273</td>\n",
       "      <td>50005</td>\n",
       "      <td>1</td>\n",
       "      <td>1</td>\n",
       "      <td>15</td>\n",
       "      <td>...</td>\n",
       "      <td>7.0</td>\n",
       "      <td>Frequent customer</td>\n",
       "      <td>Male</td>\n",
       "      <td>New Jersey</td>\n",
       "      <td>75</td>\n",
       "      <td>4/9/2019</td>\n",
       "      <td>3</td>\n",
       "      <td>married</td>\n",
       "      <td>115468</td>\n",
       "      <td>both</td>\n",
       "    </tr>\n",
       "  </tbody>\n",
       "</table>\n",
       "<p>5 rows × 30 columns</p>\n",
       "</div>"
      ],
      "text/plain": [
       "   product_id                product_name  aisle_id  department_id    prices  \\\n",
       "0           1  Chocolate Sandwich Cookies        61             19  5.800781   \n",
       "1           1  Chocolate Sandwich Cookies        61             19  5.800781   \n",
       "2           1  Chocolate Sandwich Cookies        61             19  5.800781   \n",
       "3           1  Chocolate Sandwich Cookies        61             19  5.800781   \n",
       "4           1  Chocolate Sandwich Cookies        61             19  5.800781   \n",
       "\n",
       "   order_id  user_id  order_number  orders_day_of_week  order_hour_of_day  \\\n",
       "0      1107    38259             2                   1                 11   \n",
       "1      5319   196224            65                   1                 14   \n",
       "2      7540   138499             8                   0                 14   \n",
       "3      9228    79603             2                   2                 10   \n",
       "4      9273    50005             1                   1                 15   \n",
       "\n",
       "   ...  median_days_since_orders   order_frequency_flag  Gender  \\\n",
       "0  ...                      30.0  Non-frequent customer  Female   \n",
       "1  ...                       1.0      Frequent customer    Male   \n",
       "2  ...                       7.0      Frequent customer  Female   \n",
       "3  ...                      30.0  Non-frequent customer    Male   \n",
       "4  ...                       7.0      Frequent customer    Male   \n",
       "\n",
       "                  STATE Age date_joined  n_dependants fam_status  income  \\\n",
       "0  District of Columbia  68   6/30/2019             2    married  142744   \n",
       "1              New York  48   4/29/2018             2    married   43906   \n",
       "2         Massachusetts  31   3/11/2017             2    married   78505   \n",
       "3             Tennessee  65  10/27/2019             1    married   51010   \n",
       "4            New Jersey  75    4/9/2019             3    married  115468   \n",
       "\n",
       "  _merge  \n",
       "0   both  \n",
       "1   both  \n",
       "2   both  \n",
       "3   both  \n",
       "4   both  \n",
       "\n",
       "[5 rows x 30 columns]"
      ]
     },
     "execution_count": 6,
     "metadata": {},
     "output_type": "execute_result"
    }
   ],
   "source": [
    "df_final.head()"
   ]
  },
  {
   "cell_type": "markdown",
   "id": "8e739f69-3bb5-4a0f-b9f9-e81e153e3c36",
   "metadata": {},
   "source": [
    "# Create region column based on the state column by regions: Northeast, Midwest, South, West"
   ]
  },
  {
   "cell_type": "code",
   "execution_count": 7,
   "id": "526e8ba8-aeea-4a5a-9d89-cd924b272b06",
   "metadata": {},
   "outputs": [],
   "source": [
    "# Define region mapping with full state names\n",
    "region_map = {\n",
    "    'Maine': 'Northeast', 'New Hampshire': 'Northeast', 'Vermont': 'Northeast', \n",
    "    'Massachusetts': 'Northeast', 'Rhode Island': 'Northeast', 'Connecticut': 'Northeast',\n",
    "    'New York': 'Northeast', 'New Jersey': 'Northeast', 'Pennsylvania': 'Northeast',\n",
    "    \n",
    "    'Illinois': 'Midwest', 'Indiana': 'Midwest', 'Michigan': 'Midwest', 'Ohio': 'Midwest', \n",
    "    'Wisconsin': 'Midwest', 'Iowa': 'Midwest', 'Kansas': 'Midwest', 'Minnesota': 'Midwest', \n",
    "    'Missouri': 'Midwest', 'Nebraska': 'Midwest', 'North Dakota': 'Midwest', 'South Dakota': 'Midwest',\n",
    "    \n",
    "    'Delaware': 'South', 'Florida': 'South', 'Georgia': 'South', 'Maryland': 'South', \n",
    "    'North Carolina': 'South', 'South Carolina': 'South', 'Virginia': 'South', \n",
    "    'District of Columbia': 'South', 'West Virginia': 'South', 'Alabama': 'South', \n",
    "    'Kentucky': 'South', 'Mississippi': 'South', 'Tennessee': 'South', 'Arkansas': 'South', \n",
    "    'Louisiana': 'South', 'Oklahoma': 'South', 'Texas': 'South',\n",
    "    \n",
    "    'Arizona': 'West', 'Colorado': 'West', 'Idaho': 'West', 'Montana': 'West', \n",
    "    'Nevada': 'West', 'New Mexico': 'West', 'Utah': 'West', 'Wyoming': 'West', \n",
    "    'Alaska': 'West', 'California': 'West', 'Hawaii': 'West', 'Oregon': 'West', 'Washington': 'West'\n",
    "}"
   ]
  },
  {
   "cell_type": "code",
   "execution_count": 8,
   "id": "d31a4801-d482-4737-8c67-eb0f60dfbe07",
   "metadata": {},
   "outputs": [],
   "source": [
    "# Create Region column\n",
    "df_final['Region'] = df_final['STATE'].map(region_map)"
   ]
  },
  {
   "cell_type": "code",
   "execution_count": 9,
   "id": "25c5bbc2-e87b-46a3-89af-f5d692f71df8",
   "metadata": {},
   "outputs": [
    {
     "data": {
      "text/plain": [
       "(32404859, 31)"
      ]
     },
     "execution_count": 9,
     "metadata": {},
     "output_type": "execute_result"
    }
   ],
   "source": [
    "df_final.shape"
   ]
  },
  {
   "cell_type": "code",
   "execution_count": 10,
   "id": "5d6ce74c-a0de-4446-8c93-d33390983bdc",
   "metadata": {},
   "outputs": [
    {
     "data": {
      "text/html": [
       "<div>\n",
       "<style scoped>\n",
       "    .dataframe tbody tr th:only-of-type {\n",
       "        vertical-align: middle;\n",
       "    }\n",
       "\n",
       "    .dataframe tbody tr th {\n",
       "        vertical-align: top;\n",
       "    }\n",
       "\n",
       "    .dataframe thead th {\n",
       "        text-align: right;\n",
       "    }\n",
       "</style>\n",
       "<table border=\"1\" class=\"dataframe\">\n",
       "  <thead>\n",
       "    <tr style=\"text-align: right;\">\n",
       "      <th></th>\n",
       "      <th>product_id</th>\n",
       "      <th>product_name</th>\n",
       "      <th>aisle_id</th>\n",
       "      <th>department_id</th>\n",
       "      <th>prices</th>\n",
       "      <th>order_id</th>\n",
       "      <th>user_id</th>\n",
       "      <th>order_number</th>\n",
       "      <th>orders_day_of_week</th>\n",
       "      <th>order_hour_of_day</th>\n",
       "      <th>...</th>\n",
       "      <th>order_frequency_flag</th>\n",
       "      <th>Gender</th>\n",
       "      <th>STATE</th>\n",
       "      <th>Age</th>\n",
       "      <th>date_joined</th>\n",
       "      <th>n_dependants</th>\n",
       "      <th>fam_status</th>\n",
       "      <th>income</th>\n",
       "      <th>_merge</th>\n",
       "      <th>Region</th>\n",
       "    </tr>\n",
       "  </thead>\n",
       "  <tbody>\n",
       "    <tr>\n",
       "      <th>0</th>\n",
       "      <td>1</td>\n",
       "      <td>Chocolate Sandwich Cookies</td>\n",
       "      <td>61</td>\n",
       "      <td>19</td>\n",
       "      <td>5.800781</td>\n",
       "      <td>1107</td>\n",
       "      <td>38259</td>\n",
       "      <td>2</td>\n",
       "      <td>1</td>\n",
       "      <td>11</td>\n",
       "      <td>...</td>\n",
       "      <td>Non-frequent customer</td>\n",
       "      <td>Female</td>\n",
       "      <td>District of Columbia</td>\n",
       "      <td>68</td>\n",
       "      <td>6/30/2019</td>\n",
       "      <td>2</td>\n",
       "      <td>married</td>\n",
       "      <td>142744</td>\n",
       "      <td>both</td>\n",
       "      <td>South</td>\n",
       "    </tr>\n",
       "    <tr>\n",
       "      <th>1</th>\n",
       "      <td>1</td>\n",
       "      <td>Chocolate Sandwich Cookies</td>\n",
       "      <td>61</td>\n",
       "      <td>19</td>\n",
       "      <td>5.800781</td>\n",
       "      <td>5319</td>\n",
       "      <td>196224</td>\n",
       "      <td>65</td>\n",
       "      <td>1</td>\n",
       "      <td>14</td>\n",
       "      <td>...</td>\n",
       "      <td>Frequent customer</td>\n",
       "      <td>Male</td>\n",
       "      <td>New York</td>\n",
       "      <td>48</td>\n",
       "      <td>4/29/2018</td>\n",
       "      <td>2</td>\n",
       "      <td>married</td>\n",
       "      <td>43906</td>\n",
       "      <td>both</td>\n",
       "      <td>Northeast</td>\n",
       "    </tr>\n",
       "    <tr>\n",
       "      <th>2</th>\n",
       "      <td>1</td>\n",
       "      <td>Chocolate Sandwich Cookies</td>\n",
       "      <td>61</td>\n",
       "      <td>19</td>\n",
       "      <td>5.800781</td>\n",
       "      <td>7540</td>\n",
       "      <td>138499</td>\n",
       "      <td>8</td>\n",
       "      <td>0</td>\n",
       "      <td>14</td>\n",
       "      <td>...</td>\n",
       "      <td>Frequent customer</td>\n",
       "      <td>Female</td>\n",
       "      <td>Massachusetts</td>\n",
       "      <td>31</td>\n",
       "      <td>3/11/2017</td>\n",
       "      <td>2</td>\n",
       "      <td>married</td>\n",
       "      <td>78505</td>\n",
       "      <td>both</td>\n",
       "      <td>Northeast</td>\n",
       "    </tr>\n",
       "    <tr>\n",
       "      <th>3</th>\n",
       "      <td>1</td>\n",
       "      <td>Chocolate Sandwich Cookies</td>\n",
       "      <td>61</td>\n",
       "      <td>19</td>\n",
       "      <td>5.800781</td>\n",
       "      <td>9228</td>\n",
       "      <td>79603</td>\n",
       "      <td>2</td>\n",
       "      <td>2</td>\n",
       "      <td>10</td>\n",
       "      <td>...</td>\n",
       "      <td>Non-frequent customer</td>\n",
       "      <td>Male</td>\n",
       "      <td>Tennessee</td>\n",
       "      <td>65</td>\n",
       "      <td>10/27/2019</td>\n",
       "      <td>1</td>\n",
       "      <td>married</td>\n",
       "      <td>51010</td>\n",
       "      <td>both</td>\n",
       "      <td>South</td>\n",
       "    </tr>\n",
       "    <tr>\n",
       "      <th>4</th>\n",
       "      <td>1</td>\n",
       "      <td>Chocolate Sandwich Cookies</td>\n",
       "      <td>61</td>\n",
       "      <td>19</td>\n",
       "      <td>5.800781</td>\n",
       "      <td>9273</td>\n",
       "      <td>50005</td>\n",
       "      <td>1</td>\n",
       "      <td>1</td>\n",
       "      <td>15</td>\n",
       "      <td>...</td>\n",
       "      <td>Frequent customer</td>\n",
       "      <td>Male</td>\n",
       "      <td>New Jersey</td>\n",
       "      <td>75</td>\n",
       "      <td>4/9/2019</td>\n",
       "      <td>3</td>\n",
       "      <td>married</td>\n",
       "      <td>115468</td>\n",
       "      <td>both</td>\n",
       "      <td>Northeast</td>\n",
       "    </tr>\n",
       "  </tbody>\n",
       "</table>\n",
       "<p>5 rows × 31 columns</p>\n",
       "</div>"
      ],
      "text/plain": [
       "   product_id                product_name  aisle_id  department_id    prices  \\\n",
       "0           1  Chocolate Sandwich Cookies        61             19  5.800781   \n",
       "1           1  Chocolate Sandwich Cookies        61             19  5.800781   \n",
       "2           1  Chocolate Sandwich Cookies        61             19  5.800781   \n",
       "3           1  Chocolate Sandwich Cookies        61             19  5.800781   \n",
       "4           1  Chocolate Sandwich Cookies        61             19  5.800781   \n",
       "\n",
       "   order_id  user_id  order_number  orders_day_of_week  order_hour_of_day  \\\n",
       "0      1107    38259             2                   1                 11   \n",
       "1      5319   196224            65                   1                 14   \n",
       "2      7540   138499             8                   0                 14   \n",
       "3      9228    79603             2                   2                 10   \n",
       "4      9273    50005             1                   1                 15   \n",
       "\n",
       "   ...   order_frequency_flag  Gender                 STATE Age date_joined  \\\n",
       "0  ...  Non-frequent customer  Female  District of Columbia  68   6/30/2019   \n",
       "1  ...      Frequent customer    Male              New York  48   4/29/2018   \n",
       "2  ...      Frequent customer  Female         Massachusetts  31   3/11/2017   \n",
       "3  ...  Non-frequent customer    Male             Tennessee  65  10/27/2019   \n",
       "4  ...      Frequent customer    Male            New Jersey  75    4/9/2019   \n",
       "\n",
       "  n_dependants  fam_status  income  _merge     Region  \n",
       "0            2     married  142744    both      South  \n",
       "1            2     married   43906    both  Northeast  \n",
       "2            2     married   78505    both  Northeast  \n",
       "3            1     married   51010    both      South  \n",
       "4            3     married  115468    both  Northeast  \n",
       "\n",
       "[5 rows x 31 columns]"
      ]
     },
     "execution_count": 10,
     "metadata": {},
     "output_type": "execute_result"
    }
   ],
   "source": [
    "df_final.head()"
   ]
  },
  {
   "cell_type": "code",
   "execution_count": 11,
   "id": "fa6af70a-9661-44b8-9b85-e267768ee2d1",
   "metadata": {},
   "outputs": [
    {
     "data": {
      "text/plain": [
       "STATE\n",
       "Pennsylvania            667082\n",
       "California              659783\n",
       "Rhode Island            656913\n",
       "Georgia                 656389\n",
       "New Mexico              654494\n",
       "Arizona                 653964\n",
       "North Carolina          651900\n",
       "Oklahoma                651739\n",
       "Alaska                  648495\n",
       "Minnesota               647825\n",
       "Massachusetts           646358\n",
       "Wyoming                 644255\n",
       "Virginia                641421\n",
       "Missouri                640732\n",
       "Texas                   640394\n",
       "Colorado                639280\n",
       "Maine                   638583\n",
       "North Dakota            638491\n",
       "Alabama                 638003\n",
       "Kansas                  637538\n",
       "Louisiana               637482\n",
       "Delaware                637024\n",
       "South Carolina          636754\n",
       "Oregon                  636425\n",
       "Arkansas                636144\n",
       "Nevada                  636139\n",
       "New York                635983\n",
       "Montana                 635265\n",
       "South Dakota            633772\n",
       "Illinois                633024\n",
       "Hawaii                  632901\n",
       "Washington              632852\n",
       "Mississippi             632675\n",
       "Kentucky                632490\n",
       "Michigan                630928\n",
       "Florida                 629027\n",
       "Ohio                    628319\n",
       "Wisconsin               628108\n",
       "New Jersey              627692\n",
       "Indiana                 627282\n",
       "Maryland                626579\n",
       "Nebraska                625813\n",
       "Iowa                    625493\n",
       "Connecticut             623022\n",
       "Tennessee               617873\n",
       "New Hampshire           615378\n",
       "District of Columbia    613695\n",
       "West Virginia           612296\n",
       "Utah                    611941\n",
       "Vermont                 611725\n",
       "Idaho                   607119\n",
       "Name: count, dtype: int64"
      ]
     },
     "execution_count": 11,
     "metadata": {},
     "output_type": "execute_result"
    }
   ],
   "source": [
    "df_final['STATE'].value_counts()"
   ]
  },
  {
   "cell_type": "code",
   "execution_count": 12,
   "id": "ae8b2b67-9ec4-485a-9cc4-b05a3cccf09e",
   "metadata": {},
   "outputs": [
    {
     "data": {
      "text/plain": [
       "Region\n",
       "South        10791885\n",
       "West          8292913\n",
       "Midwest       7597325\n",
       "Northeast     5722736\n",
       "Name: count, dtype: int64"
      ]
     },
     "execution_count": 12,
     "metadata": {},
     "output_type": "execute_result"
    }
   ],
   "source": [
    "df_final['Region'].value_counts()"
   ]
  },
  {
   "cell_type": "markdown",
   "id": "ef015bcd-5511-41af-ae25-0a1059da0e59",
   "metadata": {},
   "source": [
    "# Determine whether there’s a difference in spending habits between the different U.S. regions. (Hint: You can do this by crossing the variable you just created with the spending flag"
   ]
  },
  {
   "cell_type": "code",
   "execution_count": 13,
   "id": "cc6c181e-b380-47ca-aaa0-a3f80fd403bb",
   "metadata": {},
   "outputs": [
    {
     "name": "stdout",
     "output_type": "stream",
     "text": [
      "spending_flag  High spender  Low spender\n",
      "Region                                  \n",
      "Midwest            0.385254    99.614746\n",
      "Northeast          0.325404    99.674596\n",
      "South              0.374791    99.625209\n",
      "West               0.376888    99.623112\n"
     ]
    }
   ],
   "source": [
    "# Create a cross-tab to compare Region and spending_flag\n",
    "region_spending = pd.crosstab(df_final['Region'], df_final['spending_flag'], normalize='index') * 100\n",
    "\n",
    "# Display the result\n",
    "print(region_spending)\n"
   ]
  },
  {
   "cell_type": "code",
   "execution_count": 14,
   "id": "b0574362-5de9-4437-a206-7e73ffc1d3c1",
   "metadata": {},
   "outputs": [
    {
     "data": {
      "image/png": "[encoded data removed]",
      "text/plain": [
       "<Figure size 640x480 with 1 Axes>"
      ]
     },
     "metadata": {},
     "output_type": "display_data"
    }
   ],
   "source": [
    "plot = region_spending.plot(kind='bar', stacked=True)\n",
    "plt.title('Spending Habits by U.S. Region')\n",
    "plt.ylabel('Percentage')\n",
    "plt.xlabel('Region')\n",
    "plt.legend(title='Spending Flag')\n",
    "plt.show()\n"
   ]
  },
  {
   "cell_type": "code",
   "execution_count": 15,
   "id": "3542f1c2-1374-4483-8a57-cf8ba99f6baa",
   "metadata": {},
   "outputs": [
    {
     "data": {
      "text/plain": [
       "spending_flag\n",
       "Low spender     32285266\n",
       "High spender      119593\n",
       "Name: count, dtype: int64"
      ]
     },
     "execution_count": 15,
     "metadata": {},
     "output_type": "execute_result"
    }
   ],
   "source": [
    "df_final['spending_flag'].value_counts()"
   ]
  },
  {
   "cell_type": "markdown",
   "id": "ae4c9029-9f6e-49e4-8995-6822ec326698",
   "metadata": {},
   "source": [
    "# The Instacart CFO isn’t interested in customers who don’t generate much revenue for the app. Create an exclusion flag for low-activity customers (customers with less than 5 orders) and exclude them from the data. Make sure you export this sample."
   ]
  },
  {
   "cell_type": "code",
   "execution_count": 16,
   "id": "eb4f0f09-212f-4520-8c4c-5b108450ca98",
   "metadata": {},
   "outputs": [],
   "source": [
    "# Create column 'low_activity_flag'\n",
    "df_final['low_activity_flag'] = df_final['order_number'].apply(lambda x: 'Yes' if x < 5 else 'No')\n"
   ]
  },
  {
   "cell_type": "code",
   "execution_count": 17,
   "id": "989350c4-1442-4d28-92bc-b6ebe8207afe",
   "metadata": {},
   "outputs": [
    {
     "data": {
      "text/html": [
       "<div>\n",
       "<style scoped>\n",
       "    .dataframe tbody tr th:only-of-type {\n",
       "        vertical-align: middle;\n",
       "    }\n",
       "\n",
       "    .dataframe tbody tr th {\n",
       "        vertical-align: top;\n",
       "    }\n",
       "\n",
       "    .dataframe thead th {\n",
       "        text-align: right;\n",
       "    }\n",
       "</style>\n",
       "<table border=\"1\" class=\"dataframe\">\n",
       "  <thead>\n",
       "    <tr style=\"text-align: right;\">\n",
       "      <th></th>\n",
       "      <th>product_id</th>\n",
       "      <th>product_name</th>\n",
       "      <th>aisle_id</th>\n",
       "      <th>department_id</th>\n",
       "      <th>prices</th>\n",
       "      <th>order_id</th>\n",
       "      <th>user_id</th>\n",
       "      <th>order_number</th>\n",
       "      <th>orders_day_of_week</th>\n",
       "      <th>order_hour_of_day</th>\n",
       "      <th>...</th>\n",
       "      <th>Gender</th>\n",
       "      <th>STATE</th>\n",
       "      <th>Age</th>\n",
       "      <th>date_joined</th>\n",
       "      <th>n_dependants</th>\n",
       "      <th>fam_status</th>\n",
       "      <th>income</th>\n",
       "      <th>_merge</th>\n",
       "      <th>Region</th>\n",
       "      <th>low_activity_flag</th>\n",
       "    </tr>\n",
       "  </thead>\n",
       "  <tbody>\n",
       "    <tr>\n",
       "      <th>0</th>\n",
       "      <td>1</td>\n",
       "      <td>Chocolate Sandwich Cookies</td>\n",
       "      <td>61</td>\n",
       "      <td>19</td>\n",
       "      <td>5.800781</td>\n",
       "      <td>1107</td>\n",
       "      <td>38259</td>\n",
       "      <td>2</td>\n",
       "      <td>1</td>\n",
       "      <td>11</td>\n",
       "      <td>...</td>\n",
       "      <td>Female</td>\n",
       "      <td>District of Columbia</td>\n",
       "      <td>68</td>\n",
       "      <td>6/30/2019</td>\n",
       "      <td>2</td>\n",
       "      <td>married</td>\n",
       "      <td>142744</td>\n",
       "      <td>both</td>\n",
       "      <td>South</td>\n",
       "      <td>Yes</td>\n",
       "    </tr>\n",
       "    <tr>\n",
       "      <th>1</th>\n",
       "      <td>1</td>\n",
       "      <td>Chocolate Sandwich Cookies</td>\n",
       "      <td>61</td>\n",
       "      <td>19</td>\n",
       "      <td>5.800781</td>\n",
       "      <td>5319</td>\n",
       "      <td>196224</td>\n",
       "      <td>65</td>\n",
       "      <td>1</td>\n",
       "      <td>14</td>\n",
       "      <td>...</td>\n",
       "      <td>Male</td>\n",
       "      <td>New York</td>\n",
       "      <td>48</td>\n",
       "      <td>4/29/2018</td>\n",
       "      <td>2</td>\n",
       "      <td>married</td>\n",
       "      <td>43906</td>\n",
       "      <td>both</td>\n",
       "      <td>Northeast</td>\n",
       "      <td>No</td>\n",
       "    </tr>\n",
       "    <tr>\n",
       "      <th>2</th>\n",
       "      <td>1</td>\n",
       "      <td>Chocolate Sandwich Cookies</td>\n",
       "      <td>61</td>\n",
       "      <td>19</td>\n",
       "      <td>5.800781</td>\n",
       "      <td>7540</td>\n",
       "      <td>138499</td>\n",
       "      <td>8</td>\n",
       "      <td>0</td>\n",
       "      <td>14</td>\n",
       "      <td>...</td>\n",
       "      <td>Female</td>\n",
       "      <td>Massachusetts</td>\n",
       "      <td>31</td>\n",
       "      <td>3/11/2017</td>\n",
       "      <td>2</td>\n",
       "      <td>married</td>\n",
       "      <td>78505</td>\n",
       "      <td>both</td>\n",
       "      <td>Northeast</td>\n",
       "      <td>No</td>\n",
       "    </tr>\n",
       "    <tr>\n",
       "      <th>3</th>\n",
       "      <td>1</td>\n",
       "      <td>Chocolate Sandwich Cookies</td>\n",
       "      <td>61</td>\n",
       "      <td>19</td>\n",
       "      <td>5.800781</td>\n",
       "      <td>9228</td>\n",
       "      <td>79603</td>\n",
       "      <td>2</td>\n",
       "      <td>2</td>\n",
       "      <td>10</td>\n",
       "      <td>...</td>\n",
       "      <td>Male</td>\n",
       "      <td>Tennessee</td>\n",
       "      <td>65</td>\n",
       "      <td>10/27/2019</td>\n",
       "      <td>1</td>\n",
       "      <td>married</td>\n",
       "      <td>51010</td>\n",
       "      <td>both</td>\n",
       "      <td>South</td>\n",
       "      <td>Yes</td>\n",
       "    </tr>\n",
       "    <tr>\n",
       "      <th>4</th>\n",
       "      <td>1</td>\n",
       "      <td>Chocolate Sandwich Cookies</td>\n",
       "      <td>61</td>\n",
       "      <td>19</td>\n",
       "      <td>5.800781</td>\n",
       "      <td>9273</td>\n",
       "      <td>50005</td>\n",
       "      <td>1</td>\n",
       "      <td>1</td>\n",
       "      <td>15</td>\n",
       "      <td>...</td>\n",
       "      <td>Male</td>\n",
       "      <td>New Jersey</td>\n",
       "      <td>75</td>\n",
       "      <td>4/9/2019</td>\n",
       "      <td>3</td>\n",
       "      <td>married</td>\n",
       "      <td>115468</td>\n",
       "      <td>both</td>\n",
       "      <td>Northeast</td>\n",
       "      <td>Yes</td>\n",
       "    </tr>\n",
       "  </tbody>\n",
       "</table>\n",
       "<p>5 rows × 32 columns</p>\n",
       "</div>"
      ],
      "text/plain": [
       "   product_id                product_name  aisle_id  department_id    prices  \\\n",
       "0           1  Chocolate Sandwich Cookies        61             19  5.800781   \n",
       "1           1  Chocolate Sandwich Cookies        61             19  5.800781   \n",
       "2           1  Chocolate Sandwich Cookies        61             19  5.800781   \n",
       "3           1  Chocolate Sandwich Cookies        61             19  5.800781   \n",
       "4           1  Chocolate Sandwich Cookies        61             19  5.800781   \n",
       "\n",
       "   order_id  user_id  order_number  orders_day_of_week  order_hour_of_day  \\\n",
       "0      1107    38259             2                   1                 11   \n",
       "1      5319   196224            65                   1                 14   \n",
       "2      7540   138499             8                   0                 14   \n",
       "3      9228    79603             2                   2                 10   \n",
       "4      9273    50005             1                   1                 15   \n",
       "\n",
       "   ...  Gender                 STATE  Age date_joined n_dependants fam_status  \\\n",
       "0  ...  Female  District of Columbia   68   6/30/2019            2    married   \n",
       "1  ...    Male              New York   48   4/29/2018            2    married   \n",
       "2  ...  Female         Massachusetts   31   3/11/2017            2    married   \n",
       "3  ...    Male             Tennessee   65  10/27/2019            1    married   \n",
       "4  ...    Male            New Jersey   75    4/9/2019            3    married   \n",
       "\n",
       "   income _merge     Region low_activity_flag  \n",
       "0  142744   both      South               Yes  \n",
       "1   43906   both  Northeast                No  \n",
       "2   78505   both  Northeast                No  \n",
       "3   51010   both      South               Yes  \n",
       "4  115468   both  Northeast               Yes  \n",
       "\n",
       "[5 rows x 32 columns]"
      ]
     },
     "execution_count": 17,
     "metadata": {},
     "output_type": "execute_result"
    }
   ],
   "source": [
    "df_final.head()"
   ]
  },
  {
   "cell_type": "code",
   "execution_count": 18,
   "id": "ff21da9b-32b8-42c2-8f4a-8699f66ae411",
   "metadata": {},
   "outputs": [
    {
     "data": {
      "text/plain": [
       "(32404859, 32)"
      ]
     },
     "execution_count": 18,
     "metadata": {},
     "output_type": "execute_result"
    }
   ],
   "source": [
    "df_final.shape"
   ]
  },
  {
   "cell_type": "code",
   "execution_count": 19,
   "id": "1ae492ee-76c8-42bd-a185-cdf2de80fe91",
   "metadata": {},
   "outputs": [],
   "source": [
    "# Exclude low activity users from dataframe\n",
    "df_final_active = df_final[df_final['low_activity_flag'] == 'No']"
   ]
  },
  {
   "cell_type": "code",
   "execution_count": 20,
   "id": "ced8c2bf-05ef-47ec-8a50-f7202a93fe31",
   "metadata": {},
   "outputs": [
    {
     "data": {
      "text/plain": [
       "(24414877, 32)"
      ]
     },
     "execution_count": 20,
     "metadata": {},
     "output_type": "execute_result"
    }
   ],
   "source": [
    "df_final_active.shape"
   ]
  },
  {
   "cell_type": "markdown",
   "id": "3c0064a4-32b1-4ba7-94a1-f0e65782222b",
   "metadata": {},
   "source": [
    "# Export files"
   ]
  },
  {
   "cell_type": "code",
   "execution_count": 21,
   "id": "2bf8bb47-10dd-4e81-bc75-908011033f82",
   "metadata": {},
   "outputs": [],
   "source": [
    "# Export file\n",
    "df_final.to_pickle(os.path.join(path, '02 Data','Prepared Data', 'final.pkl'))"
   ]
  },
  {
   "cell_type": "markdown",
   "id": "0af0c5ba-1122-41f2-bf63-52ef2dccf64d",
   "metadata": {},
   "source": [
    "# The marketing and business strategy units at Instacart want to create more-relevant marketing strategies for different products and are, thus, curious about customer profiling in their database. Create a profiling variable based on age, income, certain goods in the “department_id” column, and number of dependents. You might also use the “orders_day_of_week” and “order_hour_of_day” columns if you can think of a way they would impact customer profiles. (Hint: As an example, try thinking of what characteristics would lead you to the profile “Single adult” or “Young parent.”)"
   ]
  },
  {
   "cell_type": "code",
   "execution_count": 22,
   "id": "a325a42a-bbcd-481c-befc-02b29b480060",
   "metadata": {},
   "outputs": [
    {
     "data": {
      "text/plain": [
       "Index(['product_id', 'product_name', 'aisle_id', 'department_id', 'prices',\n",
       "       'order_id', 'user_id', 'order_number', 'orders_day_of_week',\n",
       "       'order_hour_of_day', 'days_since_prior_order', 'add_to_cart_order',\n",
       "       'reordered', 'price_range_loc', 'busiest_days', 'busiest_period_of_day',\n",
       "       'max_order', 'loyalty_flag', 'average_spent', 'spending_flag',\n",
       "       'median_days_since_orders', 'order_frequency_flag', 'Gender', 'STATE',\n",
       "       'Age', 'date_joined', 'n_dependants', 'fam_status', 'income', '_merge',\n",
       "       'Region', 'low_activity_flag'],\n",
       "      dtype='object')"
      ]
     },
     "execution_count": 22,
     "metadata": {},
     "output_type": "execute_result"
    }
   ],
   "source": [
    "df_final_active.columns"
   ]
  },
  {
   "cell_type": "markdown",
   "id": "b9f152cb-b4c8-46d3-a8ba-22d7080ac5b7",
   "metadata": {},
   "source": [
    "## Create a list for profile_customer to apply as a column profile on df : Young single adult, Young parent, Affluent professional, Busy family, Senior shopper and General shopper"
   ]
  },
  {
   "cell_type": "code",
   "execution_count": 23,
   "id": "ab34a7dc-ab3a-469c-bde8-acacea88d17c",
   "metadata": {},
   "outputs": [],
   "source": [
    "def profile_customer(row):\n",
    "    age = row['Age']\n",
    "    income = row['income']\n",
    "    dept = row['department_id']\n",
    "    dependents = row['n_dependants']\n",
    "    \n",
    "    if age < 30 and income < 40000 and dependents == 0:\n",
    "        return 'Young Single Adult'\n",
    "    elif age < 35 and dependents > 0 and dept in [18, 4, 16]:  # dept: baby, produce, dairy\n",
    "        return 'Young Parent'\n",
    "    elif 30 <= age < 60 and income >= 80000 and dependents == 0:\n",
    "        return 'Affluent Professional'\n",
    "    elif dependents >= 2 and dept in [19, 17, 7]:  # dept: snacks, household, beverages\n",
    "        return 'Busy Family'\n",
    "    elif age >= 60:\n",
    "        return 'Senior Shopper'\n",
    "    else:\n",
    "        return 'General Shopper'\n"
   ]
  },
  {
   "cell_type": "code",
   "execution_count": 24,
   "id": "5399d361-d270-414f-92ad-068ea4eb0753",
   "metadata": {},
   "outputs": [
    {
     "name": "stderr",
     "output_type": "stream",
     "text": [
      "C:\\Users\\valev\\AppData\\Local\\Temp\\ipykernel_21584\\3229360510.py:1: SettingWithCopyWarning: \n",
      "A value is trying to be set on a copy of a slice from a DataFrame.\n",
      "Try using .loc[row_indexer,col_indexer] = value instead\n",
      "\n",
      "See the caveats in the documentation: https://pandas.pydata.org/pandas-docs/stable/user_guide/indexing.html#returning-a-view-versus-a-copy\n",
      "  df_final_active['profile'] = df_final_active.apply(profile_customer, axis=1)\n"
     ]
    }
   ],
   "source": [
    "df_final_active['profile'] = df_final_active.apply(profile_customer, axis=1)"
   ]
  },
  {
   "cell_type": "code",
   "execution_count": 25,
   "id": "604962f7-72f8-44e0-83f2-2f6101fb2486",
   "metadata": {},
   "outputs": [
    {
     "data": {
      "text/html": [
       "<div>\n",
       "<style scoped>\n",
       "    .dataframe tbody tr th:only-of-type {\n",
       "        vertical-align: middle;\n",
       "    }\n",
       "\n",
       "    .dataframe tbody tr th {\n",
       "        vertical-align: top;\n",
       "    }\n",
       "\n",
       "    .dataframe thead th {\n",
       "        text-align: right;\n",
       "    }\n",
       "</style>\n",
       "<table border=\"1\" class=\"dataframe\">\n",
       "  <thead>\n",
       "    <tr style=\"text-align: right;\">\n",
       "      <th></th>\n",
       "      <th>product_id</th>\n",
       "      <th>product_name</th>\n",
       "      <th>aisle_id</th>\n",
       "      <th>department_id</th>\n",
       "      <th>prices</th>\n",
       "      <th>order_id</th>\n",
       "      <th>user_id</th>\n",
       "      <th>order_number</th>\n",
       "      <th>orders_day_of_week</th>\n",
       "      <th>order_hour_of_day</th>\n",
       "      <th>...</th>\n",
       "      <th>STATE</th>\n",
       "      <th>Age</th>\n",
       "      <th>date_joined</th>\n",
       "      <th>n_dependants</th>\n",
       "      <th>fam_status</th>\n",
       "      <th>income</th>\n",
       "      <th>_merge</th>\n",
       "      <th>Region</th>\n",
       "      <th>low_activity_flag</th>\n",
       "      <th>profile</th>\n",
       "    </tr>\n",
       "  </thead>\n",
       "  <tbody>\n",
       "    <tr>\n",
       "      <th>1</th>\n",
       "      <td>1</td>\n",
       "      <td>Chocolate Sandwich Cookies</td>\n",
       "      <td>61</td>\n",
       "      <td>19</td>\n",
       "      <td>5.800781</td>\n",
       "      <td>5319</td>\n",
       "      <td>196224</td>\n",
       "      <td>65</td>\n",
       "      <td>1</td>\n",
       "      <td>14</td>\n",
       "      <td>...</td>\n",
       "      <td>New York</td>\n",
       "      <td>48</td>\n",
       "      <td>4/29/2018</td>\n",
       "      <td>2</td>\n",
       "      <td>married</td>\n",
       "      <td>43906</td>\n",
       "      <td>both</td>\n",
       "      <td>Northeast</td>\n",
       "      <td>No</td>\n",
       "      <td>Busy Family</td>\n",
       "    </tr>\n",
       "    <tr>\n",
       "      <th>2</th>\n",
       "      <td>1</td>\n",
       "      <td>Chocolate Sandwich Cookies</td>\n",
       "      <td>61</td>\n",
       "      <td>19</td>\n",
       "      <td>5.800781</td>\n",
       "      <td>7540</td>\n",
       "      <td>138499</td>\n",
       "      <td>8</td>\n",
       "      <td>0</td>\n",
       "      <td>14</td>\n",
       "      <td>...</td>\n",
       "      <td>Massachusetts</td>\n",
       "      <td>31</td>\n",
       "      <td>3/11/2017</td>\n",
       "      <td>2</td>\n",
       "      <td>married</td>\n",
       "      <td>78505</td>\n",
       "      <td>both</td>\n",
       "      <td>Northeast</td>\n",
       "      <td>No</td>\n",
       "      <td>Busy Family</td>\n",
       "    </tr>\n",
       "    <tr>\n",
       "      <th>5</th>\n",
       "      <td>1</td>\n",
       "      <td>Chocolate Sandwich Cookies</td>\n",
       "      <td>61</td>\n",
       "      <td>19</td>\n",
       "      <td>5.800781</td>\n",
       "      <td>9696</td>\n",
       "      <td>108919</td>\n",
       "      <td>46</td>\n",
       "      <td>5</td>\n",
       "      <td>16</td>\n",
       "      <td>...</td>\n",
       "      <td>Massachusetts</td>\n",
       "      <td>34</td>\n",
       "      <td>12/12/2018</td>\n",
       "      <td>0</td>\n",
       "      <td>single</td>\n",
       "      <td>93561</td>\n",
       "      <td>both</td>\n",
       "      <td>Northeast</td>\n",
       "      <td>No</td>\n",
       "      <td>Affluent Professional</td>\n",
       "    </tr>\n",
       "    <tr>\n",
       "      <th>7</th>\n",
       "      <td>1</td>\n",
       "      <td>Chocolate Sandwich Cookies</td>\n",
       "      <td>61</td>\n",
       "      <td>19</td>\n",
       "      <td>5.800781</td>\n",
       "      <td>11485</td>\n",
       "      <td>170451</td>\n",
       "      <td>5</td>\n",
       "      <td>5</td>\n",
       "      <td>18</td>\n",
       "      <td>...</td>\n",
       "      <td>District of Columbia</td>\n",
       "      <td>80</td>\n",
       "      <td>4/12/2017</td>\n",
       "      <td>1</td>\n",
       "      <td>married</td>\n",
       "      <td>47464</td>\n",
       "      <td>both</td>\n",
       "      <td>South</td>\n",
       "      <td>No</td>\n",
       "      <td>Senior Shopper</td>\n",
       "    </tr>\n",
       "    <tr>\n",
       "      <th>8</th>\n",
       "      <td>1</td>\n",
       "      <td>Chocolate Sandwich Cookies</td>\n",
       "      <td>61</td>\n",
       "      <td>19</td>\n",
       "      <td>5.800781</td>\n",
       "      <td>12672</td>\n",
       "      <td>106854</td>\n",
       "      <td>28</td>\n",
       "      <td>5</td>\n",
       "      <td>10</td>\n",
       "      <td>...</td>\n",
       "      <td>District of Columbia</td>\n",
       "      <td>19</td>\n",
       "      <td>10/14/2017</td>\n",
       "      <td>2</td>\n",
       "      <td>living with parents and siblings</td>\n",
       "      <td>93441</td>\n",
       "      <td>both</td>\n",
       "      <td>South</td>\n",
       "      <td>No</td>\n",
       "      <td>Busy Family</td>\n",
       "    </tr>\n",
       "  </tbody>\n",
       "</table>\n",
       "<p>5 rows × 33 columns</p>\n",
       "</div>"
      ],
      "text/plain": [
       "   product_id                product_name  aisle_id  department_id    prices  \\\n",
       "1           1  Chocolate Sandwich Cookies        61             19  5.800781   \n",
       "2           1  Chocolate Sandwich Cookies        61             19  5.800781   \n",
       "5           1  Chocolate Sandwich Cookies        61             19  5.800781   \n",
       "7           1  Chocolate Sandwich Cookies        61             19  5.800781   \n",
       "8           1  Chocolate Sandwich Cookies        61             19  5.800781   \n",
       "\n",
       "   order_id  user_id  order_number  orders_day_of_week  order_hour_of_day  \\\n",
       "1      5319   196224            65                   1                 14   \n",
       "2      7540   138499             8                   0                 14   \n",
       "5      9696   108919            46                   5                 16   \n",
       "7     11485   170451             5                   5                 18   \n",
       "8     12672   106854            28                   5                 10   \n",
       "\n",
       "   ...                 STATE  Age  date_joined n_dependants  \\\n",
       "1  ...              New York   48    4/29/2018            2   \n",
       "2  ...         Massachusetts   31    3/11/2017            2   \n",
       "5  ...         Massachusetts   34   12/12/2018            0   \n",
       "7  ...  District of Columbia   80    4/12/2017            1   \n",
       "8  ...  District of Columbia   19   10/14/2017            2   \n",
       "\n",
       "                         fam_status income  _merge     Region  \\\n",
       "1                           married  43906    both  Northeast   \n",
       "2                           married  78505    both  Northeast   \n",
       "5                            single  93561    both  Northeast   \n",
       "7                           married  47464    both      South   \n",
       "8  living with parents and siblings  93441    both      South   \n",
       "\n",
       "   low_activity_flag                profile  \n",
       "1                 No            Busy Family  \n",
       "2                 No            Busy Family  \n",
       "5                 No  Affluent Professional  \n",
       "7                 No         Senior Shopper  \n",
       "8                 No            Busy Family  \n",
       "\n",
       "[5 rows x 33 columns]"
      ]
     },
     "execution_count": 25,
     "metadata": {},
     "output_type": "execute_result"
    }
   ],
   "source": [
    "df_final_active.head()"
   ]
  },
  {
   "cell_type": "code",
   "execution_count": 26,
   "id": "2c1e4235-c833-4b7b-9473-27a237ebc948",
   "metadata": {},
   "outputs": [
    {
     "data": {
      "text/plain": [
       "profile\n",
       "General Shopper          10257574\n",
       "Senior Shopper            7506622\n",
       "Busy Family               2388831\n",
       "Young Parent              2334450\n",
       "Affluent Professional     1847000\n",
       "Young Single Adult          80400\n",
       "Name: count, dtype: int64"
      ]
     },
     "execution_count": 26,
     "metadata": {},
     "output_type": "execute_result"
    }
   ],
   "source": [
    "df_final_active['profile'].value_counts()"
   ]
  },
  {
   "cell_type": "markdown",
   "id": "4581f99d-58e2-45c0-b3d3-d0e93fa77d21",
   "metadata": {},
   "source": [
    "# Create an appropriate visualization to show the distribution of profiles."
   ]
  },
  {
   "cell_type": "code",
   "execution_count": 27,
   "id": "937494d5-7b34-49b0-acbc-07db3ac41fd7",
   "metadata": {},
   "outputs": [
    {
     "data": {
      "image/png": "[encoded data removed]",
      "text/plain": [
       "<Figure size 1000x600 with 1 Axes>"
      ]
     },
     "metadata": {},
     "output_type": "display_data"
    }
   ],
   "source": [
    "plot_1 = plt.figure(figsize=(10,6))\n",
    "sns.countplot(data=df_final_active, x='profile', hue='profile', legend=False,\n",
    "              order=df_final_active['profile'].value_counts().index, palette='Set2')\n",
    "plt.title('Distribution of Customer Profiles')\n",
    "plt.xlabel('Customer Profile')\n",
    "plt.ylabel('Number of Customers')\n",
    "plt.xticks(rotation=45)\n",
    "plt.tight_layout()\n",
    "plt.show()"
   ]
  },
  {
   "cell_type": "markdown",
   "id": "412fad3c-6087-410d-b7a8-9dac61537f6f",
   "metadata": {},
   "source": [
    "### Wow, well, this is pretty cool.  Thanks to ChatGPT."
   ]
  },
  {
   "cell_type": "markdown",
   "id": "54085377-d26d-4562-9047-b760c8266974",
   "metadata": {},
   "source": [
    "# Aggregate the max, mean, and min variables on a customer-profile level for usage frequency and expenditure"
   ]
  },
  {
   "cell_type": "markdown",
   "id": "5825d61c-a56c-4065-8491-3f532ae841ec",
   "metadata": {},
   "source": [
    "## To aggregate values for order_number frequency and average_spent by customer profile using the groupby method followed by agg."
   ]
  },
  {
   "cell_type": "code",
   "execution_count": 28,
   "id": "4e042144-bc9c-44d9-929c-f325dc4cd930",
   "metadata": {},
   "outputs": [
    {
     "name": "stdout",
     "output_type": "stream",
     "text": [
      "                      order_number            average_spent            \n",
      "                               max   mean min           max  mean   min\n",
      "profile                                                                \n",
      "Affluent Professional           99  22.11   5         16.29  7.95  5.19\n",
      "Busy Family                     99  21.73   5         17.62  7.59  1.00\n",
      "General Shopper                 99  21.85   5         20.11  7.79  1.00\n",
      "Senior Shopper                  99  21.94   5         19.41  7.82  1.30\n",
      "Young Parent                    99  22.55   5         14.43  7.84  1.77\n",
      "Young Single Adult              99  20.89   5          7.00  6.49  2.60\n"
     ]
    }
   ],
   "source": [
    "agg_profile = df_final_active.groupby('profile').agg({\n",
    "    'order_number': ['max', 'mean', 'min'],\n",
    "    'average_spent': ['max', 'mean', 'min']\n",
    "}).round(2)\n",
    "\n",
    "print(agg_profile)\n"
   ]
  },
  {
   "cell_type": "markdown",
   "id": "d9d183b8-bc54-4472-8abf-ed2ef70be346",
   "metadata": {},
   "source": [
    "# Compare your customer profiles with regions and departments. Can you identify a link between them? Customers may demonstrate different behaviors across regions, which could make this information important."
   ]
  },
  {
   "cell_type": "markdown",
   "id": "398d127c-d29b-43ff-b404-613866e5e63b",
   "metadata": {},
   "source": [
    "## Compare by region using crosstab and percentages"
   ]
  },
  {
   "cell_type": "code",
   "execution_count": 29,
   "id": "250d1488-83ea-41e3-8236-56f1515d5b47",
   "metadata": {},
   "outputs": [
    {
     "name": "stdout",
     "output_type": "stream",
     "text": [
      "profile    Affluent Professional  Busy Family  General Shopper  \\\n",
      "Region                                                           \n",
      "Midwest                     7.92         9.65            42.26   \n",
      "Northeast                   7.01        10.06            41.97   \n",
      "South                       7.43         9.75            42.06   \n",
      "West                        7.80         9.76            41.76   \n",
      "\n",
      "profile    Senior Shopper  Young Parent  Young Single Adult  \n",
      "Region                                                       \n",
      "Midwest             30.38          9.50                0.28  \n",
      "Northeast           31.08          9.56                0.33  \n",
      "South               30.73          9.70                0.33  \n",
      "West                30.87          9.44                0.38  \n"
     ]
    }
   ],
   "source": [
    "region_profile_ct = pd.crosstab(df_final_active['Region'], df_final_active['profile'], normalize='index') * 100\n",
    "print(region_profile_ct.round(2))"
   ]
  },
  {
   "cell_type": "code",
   "execution_count": 30,
   "id": "56d2e346-4519-4871-af80-087599c9534f",
   "metadata": {},
   "outputs": [
    {
     "data": {
      "image/png": "[encoded data removed]",
      "text/plain": [
       "<Figure size 1200x600 with 1 Axes>"
      ]
     },
     "metadata": {},
     "output_type": "display_data"
    }
   ],
   "source": [
    "plot_2 = plt.figure(figsize=(12, 6))\n",
    "sns.countplot(data=df_final_active, x='Region', hue='profile', palette='Set2')\n",
    "plt.title('Customer Profiles by Region')\n",
    "plt.ylabel('Count')\n",
    "plt.xlabel('Region')\n",
    "plt.xticks(rotation=45)\n",
    "plt.legend(title='Profile')\n",
    "plt.tight_layout()\n",
    "plt.show()"
   ]
  },
  {
   "cell_type": "markdown",
   "id": "4454e88a-0f26-4953-82f1-d0928f2858b3",
   "metadata": {},
   "source": [
    "## Compare by department using crosstab and percentages"
   ]
  },
  {
   "cell_type": "code",
   "execution_count": 31,
   "id": "8fda3707-5c7c-49d9-beb9-c9d038d1d437",
   "metadata": {},
   "outputs": [
    {
     "name": "stdout",
     "output_type": "stream",
     "text": [
      "profile        Affluent Professional  Busy Family  General Shopper  \\\n",
      "department_id                                                        \n",
      "1                               7.67         0.00            57.67   \n",
      "2                               7.80         0.00            58.22   \n",
      "3                               7.79         0.00            57.83   \n",
      "4                               7.73         0.00            37.92   \n",
      "5                               9.42         0.00            57.45   \n",
      "6                               7.92         0.00            58.08   \n",
      "7                               7.24        50.05            25.27   \n",
      "8                               8.24         0.00            57.04   \n",
      "9                               7.80         0.00            57.94   \n",
      "10                              7.07         0.00            58.18   \n",
      "11                              7.41         0.00            58.46   \n",
      "12                              7.96         0.00            57.48   \n",
      "13                              7.70         0.00            57.86   \n",
      "14                              7.29         0.00            58.37   \n",
      "15                              7.97         0.00            57.86   \n",
      "16                              7.68         0.00            37.88   \n",
      "17                              7.31        50.44            24.98   \n",
      "18                              8.25         0.00            38.59   \n",
      "19                              6.48        50.18            25.88   \n",
      "20                              7.54         0.00            57.93   \n",
      "21                              7.43         0.00            58.79   \n",
      "\n",
      "profile        Senior Shopper  Young Parent  Young Single Adult  \n",
      "department_id                                                    \n",
      "1                       34.36          0.00                0.30  \n",
      "2                       33.59          0.00                0.40  \n",
      "3                       34.11          0.00                0.26  \n",
      "4                       34.16         19.92                0.28  \n",
      "5                       32.71          0.00                0.42  \n",
      "6                       33.68          0.00                0.32  \n",
      "7                       17.00          0.00                0.43  \n",
      "8                       34.32          0.00                0.40  \n",
      "9                       34.02          0.00                0.25  \n",
      "10                      34.25          0.00                0.50  \n",
      "11                      33.77          0.00                0.36  \n",
      "12                      34.44          0.00                0.12  \n",
      "13                      34.17          0.00                0.27  \n",
      "14                      33.91          0.00                0.43  \n",
      "15                      33.93          0.00                0.24  \n",
      "16                      33.99         20.15                0.30  \n",
      "17                      16.89          0.00                0.39  \n",
      "18                      33.68         19.34                0.14  \n",
      "19                      16.81          0.00                0.65  \n",
      "20                      34.20          0.00                0.33  \n",
      "21                      33.52          0.00                0.26  \n"
     ]
    }
   ],
   "source": [
    "dept_profile_ct = pd.crosstab(df_final_active['department_id'], df_final_active['profile'], normalize='index') * 100\n",
    "print(dept_profile_ct.round(2))"
   ]
  },
  {
   "cell_type": "code",
   "execution_count": 32,
   "id": "0dd6cc8e-4ea5-4f94-a45f-68f95afcf11b",
   "metadata": {},
   "outputs": [
    {
     "data": {
      "image/png": "[encoded data removed]",
      "text/plain": [
       "<Figure size 1400x600 with 1 Axes>"
      ]
     },
     "metadata": {},
     "output_type": "display_data"
    }
   ],
   "source": [
    "plot_3 = plt.figure(figsize=(14, 6))\n",
    "sns.countplot(data=df_final_active, x='department_id', hue='profile', palette='Set3')\n",
    "plt.title('Customer Profiles by Department')\n",
    "plt.ylabel('Count')\n",
    "plt.xlabel('Department ID')\n",
    "plt.legend(title='Profile', bbox_to_anchor=(1.05, 1), loc='upper left')\n",
    "plt.tight_layout()\n",
    "plt.show()"
   ]
  },
  {
   "cell_type": "code",
   "execution_count": 33,
   "id": "2c0eb45b-5c82-4387-ac85-480a684759d3",
   "metadata": {},
   "outputs": [
    {
     "name": "stderr",
     "output_type": "stream",
     "text": [
      "C:\\Users\\valev\\AppData\\Local\\Temp\\ipykernel_21584\\433591713.py:11: SettingWithCopyWarning: \n",
      "A value is trying to be set on a copy of a slice from a DataFrame.\n",
      "Try using .loc[row_indexer,col_indexer] = value instead\n",
      "\n",
      "See the caveats in the documentation: https://pandas.pydata.org/pandas-docs/stable/user_guide/indexing.html#returning-a-view-versus-a-copy\n",
      "  df_final_active['department'] = df_final_active['department_id'].map(department_map)\n"
     ]
    }
   ],
   "source": [
    "# Create mapping dictionary\n",
    "department_map = {\n",
    "    1: 'frozen', 2: 'other', 3: 'bakery', 4: 'produce', 5: 'alcohol',\n",
    "    6: 'international', 7: 'beverages', 8: 'pets', 9: 'dry goods pasta',\n",
    "    10: 'bulk', 11: 'personal care', 12: 'meat seafood', 13: 'pantry',\n",
    "    14: 'breakfast', 15: 'canned goods', 16: 'dairy eggs', 17: 'household',\n",
    "    18: 'babies', 19: 'snacks', 20: 'deli', 21: 'missing'\n",
    "}\n",
    "\n",
    "# Apply mapping\n",
    "df_final_active['department'] = df_final_active['department_id'].map(department_map)"
   ]
  },
  {
   "cell_type": "code",
   "execution_count": 41,
   "id": "989029cd-5028-42cc-8360-d41a386738a0",
   "metadata": {},
   "outputs": [
    {
     "data": {
      "image/png": "[encoded data removed]",
      "text/plain": [
       "<Figure size 1600x600 with 1 Axes>"
      ]
     },
     "metadata": {},
     "output_type": "display_data"
    }
   ],
   "source": [
    "plot_3_a = plt.figure(figsize=(16, 6))\n",
    "sns.countplot(data=df_final_active, x='department', hue='profile', palette='Set2')\n",
    "plt.xticks(rotation=90)\n",
    "plt.title('Customer Profiles by Department (Labeled)')\n",
    "plt.xlabel('Department')\n",
    "plt.ylabel('Count')\n",
    "plt.legend(title='Profile')\n",
    "plt.tight_layout()\n",
    "plt.show()"
   ]
  },
  {
   "cell_type": "markdown",
   "id": "ff6fd7ef-71a3-4107-a3aa-7adbbec8f47c",
   "metadata": {},
   "source": [
    "## There is a regional effect on profile behavior. For instance, the South leans more toward Busy Families and General Shoppers, while the Northeast and West see a stronger presence of Affluent Professionals.\n",
    "## Produce is bought mostly by general, senior shoppers and young parent.   Busy families buy more snacks and beverages.  Young single adult do not appear to make many purchases, whereas the Affluent professional spends more accross departments following the general and senior shopper.  Young parents spend more on produce and dairy.  "
   ]
  },
  {
   "cell_type": "markdown",
   "id": "d1931a37-77a9-4e9d-8cfe-d5e14e0a0917",
   "metadata": {},
   "source": [
    "# Export visualizations"
   ]
  },
  {
   "cell_type": "code",
   "execution_count": 42,
   "id": "7cc3b69f-c1c1-475e-8910-5cb80fd9156e",
   "metadata": {},
   "outputs": [],
   "source": [
    "plot.figure.savefig(os.path.join(path, '04 Analysis','Visualizations', 'spending_habits_by_region.png'))"
   ]
  },
  {
   "cell_type": "code",
   "execution_count": 43,
   "id": "2787ae64-56c4-4eb9-a8cc-fa3e35cf43c0",
   "metadata": {},
   "outputs": [],
   "source": [
    "plot_1.figure.savefig(os.path.join(path, '04 Analysis','Visualizations', 'distribution_customer_profiles.png'))"
   ]
  },
  {
   "cell_type": "code",
   "execution_count": 44,
   "id": "5f951a26-f77d-4036-b105-763c5819f44b",
   "metadata": {},
   "outputs": [],
   "source": [
    "plot_2.figure.savefig(os.path.join(path, '04 Analysis','Visualizations', 'customer_profile_by_region.png'))"
   ]
  },
  {
   "cell_type": "code",
   "execution_count": 45,
   "id": "4e809bea-3b02-40d3-9ced-72dd4c0403c8",
   "metadata": {},
   "outputs": [],
   "source": [
    "plot_3.figure.savefig(os.path.join(path, '04 Analysis','Visualizations', 'customer_profile_by_department.png'))"
   ]
  },
  {
   "cell_type": "code",
   "execution_count": 46,
   "id": "129439eb-3a62-4e55-80e9-1ba938de6a55",
   "metadata": {},
   "outputs": [],
   "source": [
    "plot_3_a.figure.savefig(os.path.join(path, '04 Analysis','Visualizations', 'customer_profile_by_department_labeled.png'))"
   ]
  },
  {
   "cell_type": "markdown",
   "id": "ebfe304d-80c8-4aee-a4c5-d59c2ed3a743",
   "metadata": {},
   "source": [
    "# Export active file"
   ]
  },
  {
   "cell_type": "code",
   "execution_count": 47,
   "id": "f90be879-9541-4459-8489-e7479012f492",
   "metadata": {},
   "outputs": [],
   "source": [
    "df_final_active.to_pickle(os.path.join(path, '02 Data','Prepared Data', 'final_active.pkl'))"
   ]
  }
 ],
 "metadata": {
  "kernelspec": {
   "display_name": "Python 3 (ipykernel)",
   "language": "python",
   "name": "python3"
  },
  "language_info": {
   "codemirror_mode": {
    "name": "ipython",
    "version": 3
   },
   "file_extension": ".py",
   "mimetype": "text/x-python",
   "name": "python",
   "nbconvert_exporter": "python",
   "pygments_lexer": "ipython3",
   "version": "3.12.7"
  }
 },
 "nbformat": 4,
 "nbformat_minor": 5
}
