{
 "cells": [
  {
   "cell_type": "markdown",
   "id": "eaf170a4-cfe2-4567-90b3-2eeda9d045c8",
   "metadata": {},
   "source": [
    "# Table of Contents for 4.9 Intro to Data Visualization with Python\n",
    "    Import libraries, set path, import files (ords_prods_merge_newvariable_flags.pkl)\n",
    "    Make checks (shape, columns, head)\n",
    "    Create bar charts\n",
    "        Orders_day_of_week counts\n",
    "        Indexed by day of the week\n",
    "        With a different color on each day saved as bar.  \n",
    "        Export bar as bar_orders_dow.png\n",
    "    Create histogram (frequency) of prices\n",
    "    Create a scatterplot of prices (prices vs prices)\n",
    "        Check for prices above 100: none, it was previously cleaned already\n",
    "    Run histogram again with a larger bin, save as hist\n",
    "    Export hist as hist_prices.png\n",
    "    Create a sample 70/30\n",
    "        Make a df_2 to pull from the small sample columns 'orders_day_of_week','prices'\n",
    "        Create a line chart\n",
    "        Export it as line_day_prices.png   "
   ]
  },
  {
   "cell_type": "markdown",
   "id": "b6c0c370-f3d4-4018-9e48-2eda1f1e91a1",
   "metadata": {},
   "source": [
    "# Import libraries"
   ]
  },
  {
   "cell_type": "code",
   "execution_count": 1,
   "id": "1f789760-9871-4912-b886-3cf7ffaaec07",
   "metadata": {},
   "outputs": [],
   "source": [
    "import pandas as pd\n",
    "import numpy as np\n",
    "import os\n",
    "import matplotlib.pyplot as plt\n",
    "import seaborn as sns\n",
    "import scipy"
   ]
  },
  {
   "cell_type": "markdown",
   "id": "e98f68d0-6877-4f77-8dff-6ec37d1f491b",
   "metadata": {},
   "source": [
    "# Set path"
   ]
  },
  {
   "cell_type": "code",
   "execution_count": 2,
   "id": "12b9f3aa-59fa-476a-aa2f-f85e77bd8389",
   "metadata": {},
   "outputs": [],
   "source": [
    "path = r'C:\\Users\\valev\\Desktop\\0325 Instacart Basket Analysis'"
   ]
  },
  {
   "cell_type": "markdown",
   "id": "fed7e641-ad66-411c-b0b3-13fd56ebf357",
   "metadata": {},
   "source": [
    "# Import files"
   ]
  },
  {
   "cell_type": "code",
   "execution_count": 3,
   "id": "0bc8055d-7aab-491b-983b-627ba86af743",
   "metadata": {},
   "outputs": [],
   "source": [
    "df_ords_prods_merge = pd.read_pickle(os.path.join(path, '02 Data', 'Prepared Data', 'ord_prods_merge_newvariable_flags.pkl' ))"
   ]
  },
  {
   "cell_type": "code",
   "execution_count": 4,
   "id": "66294bae-f8e9-430c-90c1-411915d19fba",
   "metadata": {},
   "outputs": [
    {
     "data": {
      "text/plain": [
       "(32404859, 24)"
      ]
     },
     "execution_count": 4,
     "metadata": {},
     "output_type": "execute_result"
    }
   ],
   "source": [
    "df_ords_prods_merge.shape"
   ]
  },
  {
   "cell_type": "code",
   "execution_count": 5,
   "id": "096c38ab-8ee8-46fa-84f7-2a32a850a539",
   "metadata": {},
   "outputs": [
    {
     "data": {
      "text/plain": [
       "Index(['product_id', 'product_name', 'aisle_id', 'department_id', 'prices',\n",
       "       'order_id', 'user_id', 'order_number', 'orders_day_of_week',\n",
       "       'order_hour_of_day', 'days_since_prior_order', 'add_to_cart_order',\n",
       "       'reordered', '_merge', 'price_range_loc', 'busiest_day', 'busiest_days',\n",
       "       'busiest_period_of_day', 'max_order', 'loyalty_flag', 'average_spent',\n",
       "       'spending_flag', 'median_days_since_orders', 'order_frequency_flag'],\n",
       "      dtype='object')"
      ]
     },
     "execution_count": 5,
     "metadata": {},
     "output_type": "execute_result"
    }
   ],
   "source": [
    "df_ords_prods_merge.columns"
   ]
  },
  {
   "cell_type": "code",
   "execution_count": 6,
   "id": "06c07b15-85b7-4e12-9ff7-a5d6e350b27b",
   "metadata": {},
   "outputs": [
    {
     "data": {
      "text/html": [
       "<div>\n",
       "<style scoped>\n",
       "    .dataframe tbody tr th:only-of-type {\n",
       "        vertical-align: middle;\n",
       "    }\n",
       "\n",
       "    .dataframe tbody tr th {\n",
       "        vertical-align: top;\n",
       "    }\n",
       "\n",
       "    .dataframe thead th {\n",
       "        text-align: right;\n",
       "    }\n",
       "</style>\n",
       "<table border=\"1\" class=\"dataframe\">\n",
       "  <thead>\n",
       "    <tr style=\"text-align: right;\">\n",
       "      <th></th>\n",
       "      <th>product_id</th>\n",
       "      <th>product_name</th>\n",
       "      <th>aisle_id</th>\n",
       "      <th>department_id</th>\n",
       "      <th>prices</th>\n",
       "      <th>order_id</th>\n",
       "      <th>user_id</th>\n",
       "      <th>order_number</th>\n",
       "      <th>orders_day_of_week</th>\n",
       "      <th>order_hour_of_day</th>\n",
       "      <th>...</th>\n",
       "      <th>price_range_loc</th>\n",
       "      <th>busiest_day</th>\n",
       "      <th>busiest_days</th>\n",
       "      <th>busiest_period_of_day</th>\n",
       "      <th>max_order</th>\n",
       "      <th>loyalty_flag</th>\n",
       "      <th>average_spent</th>\n",
       "      <th>spending_flag</th>\n",
       "      <th>median_days_since_orders</th>\n",
       "      <th>order_frequency_flag</th>\n",
       "    </tr>\n",
       "  </thead>\n",
       "  <tbody>\n",
       "    <tr>\n",
       "      <th>0</th>\n",
       "      <td>1</td>\n",
       "      <td>Chocolate Sandwich Cookies</td>\n",
       "      <td>61</td>\n",
       "      <td>19</td>\n",
       "      <td>5.800781</td>\n",
       "      <td>1107</td>\n",
       "      <td>38259</td>\n",
       "      <td>2</td>\n",
       "      <td>1</td>\n",
       "      <td>11</td>\n",
       "      <td>...</td>\n",
       "      <td>Mid-range product</td>\n",
       "      <td>Regularly busy</td>\n",
       "      <td>Next_busiest_day</td>\n",
       "      <td>Most orders</td>\n",
       "      <td>4</td>\n",
       "      <td>New customer</td>\n",
       "      <td>7.163135</td>\n",
       "      <td>Low spender</td>\n",
       "      <td>30.0</td>\n",
       "      <td>Non-frequent customer</td>\n",
       "    </tr>\n",
       "    <tr>\n",
       "      <th>1</th>\n",
       "      <td>1</td>\n",
       "      <td>Chocolate Sandwich Cookies</td>\n",
       "      <td>61</td>\n",
       "      <td>19</td>\n",
       "      <td>5.800781</td>\n",
       "      <td>5319</td>\n",
       "      <td>196224</td>\n",
       "      <td>65</td>\n",
       "      <td>1</td>\n",
       "      <td>14</td>\n",
       "      <td>...</td>\n",
       "      <td>Mid-range product</td>\n",
       "      <td>Regularly busy</td>\n",
       "      <td>Next_busiest_day</td>\n",
       "      <td>Most orders</td>\n",
       "      <td>99</td>\n",
       "      <td>Loyal customer</td>\n",
       "      <td>5.342874</td>\n",
       "      <td>Low spender</td>\n",
       "      <td>1.0</td>\n",
       "      <td>Frequent customer</td>\n",
       "    </tr>\n",
       "    <tr>\n",
       "      <th>2</th>\n",
       "      <td>1</td>\n",
       "      <td>Chocolate Sandwich Cookies</td>\n",
       "      <td>61</td>\n",
       "      <td>19</td>\n",
       "      <td>5.800781</td>\n",
       "      <td>7540</td>\n",
       "      <td>138499</td>\n",
       "      <td>8</td>\n",
       "      <td>0</td>\n",
       "      <td>14</td>\n",
       "      <td>...</td>\n",
       "      <td>Mid-range product</td>\n",
       "      <td>Busiest day</td>\n",
       "      <td>Busiest day</td>\n",
       "      <td>Most orders</td>\n",
       "      <td>23</td>\n",
       "      <td>Regular customer</td>\n",
       "      <td>7.469755</td>\n",
       "      <td>Low spender</td>\n",
       "      <td>7.0</td>\n",
       "      <td>Frequent customer</td>\n",
       "    </tr>\n",
       "    <tr>\n",
       "      <th>3</th>\n",
       "      <td>1</td>\n",
       "      <td>Chocolate Sandwich Cookies</td>\n",
       "      <td>61</td>\n",
       "      <td>19</td>\n",
       "      <td>5.800781</td>\n",
       "      <td>9228</td>\n",
       "      <td>79603</td>\n",
       "      <td>2</td>\n",
       "      <td>2</td>\n",
       "      <td>10</td>\n",
       "      <td>...</td>\n",
       "      <td>Mid-range product</td>\n",
       "      <td>Regularly busy</td>\n",
       "      <td>Regularly busy</td>\n",
       "      <td>Most orders</td>\n",
       "      <td>5</td>\n",
       "      <td>New customer</td>\n",
       "      <td>6.985924</td>\n",
       "      <td>Low spender</td>\n",
       "      <td>30.0</td>\n",
       "      <td>Non-frequent customer</td>\n",
       "    </tr>\n",
       "    <tr>\n",
       "      <th>4</th>\n",
       "      <td>1</td>\n",
       "      <td>Chocolate Sandwich Cookies</td>\n",
       "      <td>61</td>\n",
       "      <td>19</td>\n",
       "      <td>5.800781</td>\n",
       "      <td>9273</td>\n",
       "      <td>50005</td>\n",
       "      <td>1</td>\n",
       "      <td>1</td>\n",
       "      <td>15</td>\n",
       "      <td>...</td>\n",
       "      <td>Mid-range product</td>\n",
       "      <td>Regularly busy</td>\n",
       "      <td>Next_busiest_day</td>\n",
       "      <td>Most orders</td>\n",
       "      <td>22</td>\n",
       "      <td>Regular customer</td>\n",
       "      <td>7.493308</td>\n",
       "      <td>Low spender</td>\n",
       "      <td>7.0</td>\n",
       "      <td>Frequent customer</td>\n",
       "    </tr>\n",
       "  </tbody>\n",
       "</table>\n",
       "<p>5 rows × 24 columns</p>\n",
       "</div>"
      ],
      "text/plain": [
       "   product_id                product_name  aisle_id  department_id    prices  \\\n",
       "0           1  Chocolate Sandwich Cookies        61             19  5.800781   \n",
       "1           1  Chocolate Sandwich Cookies        61             19  5.800781   \n",
       "2           1  Chocolate Sandwich Cookies        61             19  5.800781   \n",
       "3           1  Chocolate Sandwich Cookies        61             19  5.800781   \n",
       "4           1  Chocolate Sandwich Cookies        61             19  5.800781   \n",
       "\n",
       "   order_id  user_id  order_number  orders_day_of_week  order_hour_of_day  \\\n",
       "0      1107    38259             2                   1                 11   \n",
       "1      5319   196224            65                   1                 14   \n",
       "2      7540   138499             8                   0                 14   \n",
       "3      9228    79603             2                   2                 10   \n",
       "4      9273    50005             1                   1                 15   \n",
       "\n",
       "   ...    price_range_loc     busiest_day      busiest_days  \\\n",
       "0  ...  Mid-range product  Regularly busy  Next_busiest_day   \n",
       "1  ...  Mid-range product  Regularly busy  Next_busiest_day   \n",
       "2  ...  Mid-range product     Busiest day       Busiest day   \n",
       "3  ...  Mid-range product  Regularly busy    Regularly busy   \n",
       "4  ...  Mid-range product  Regularly busy  Next_busiest_day   \n",
       "\n",
       "  busiest_period_of_day max_order      loyalty_flag average_spent  \\\n",
       "0           Most orders         4      New customer      7.163135   \n",
       "1           Most orders        99    Loyal customer      5.342874   \n",
       "2           Most orders        23  Regular customer      7.469755   \n",
       "3           Most orders         5      New customer      6.985924   \n",
       "4           Most orders        22  Regular customer      7.493308   \n",
       "\n",
       "  spending_flag  median_days_since_orders   order_frequency_flag  \n",
       "0   Low spender                      30.0  Non-frequent customer  \n",
       "1   Low spender                       1.0      Frequent customer  \n",
       "2   Low spender                       7.0      Frequent customer  \n",
       "3   Low spender                      30.0  Non-frequent customer  \n",
       "4   Low spender                       7.0      Frequent customer  \n",
       "\n",
       "[5 rows x 24 columns]"
      ]
     },
     "execution_count": 6,
     "metadata": {},
     "output_type": "execute_result"
    }
   ],
   "source": [
    "df_ords_prods_merge.head()"
   ]
  },
  {
   "cell_type": "markdown",
   "id": "321f7cf2-2a8d-49a7-a258-ecb94a7ae334",
   "metadata": {},
   "source": [
    "# Creating bar charts"
   ]
  },
  {
   "cell_type": "code",
   "execution_count": 7,
   "id": "a794f2ee-9403-410f-ac8e-c7ad9f567855",
   "metadata": {},
   "outputs": [
    {
     "data": {
      "text/plain": [
       "<Axes: xlabel='orders_day_of_week'>"
      ]
     },
     "execution_count": 7,
     "metadata": {},
     "output_type": "execute_result"
    },
    {
     "data": {
      "image/png": "[encoded data removed]",
      "text/plain": [
       "<Figure size 640x480 with 1 Axes>"
      ]
     },
     "metadata": {},
     "output_type": "display_data"
    }
   ],
   "source": [
    "df_ords_prods_merge['orders_day_of_week'].value_counts().plot.bar()"
   ]
  },
  {
   "cell_type": "code",
   "execution_count": 8,
   "id": "54454ae2-633a-4f75-9985-3b4d07c7b1d0",
   "metadata": {},
   "outputs": [
    {
     "data": {
      "text/plain": [
       "<Axes: xlabel='orders_day_of_week'>"
      ]
     },
     "execution_count": 8,
     "metadata": {},
     "output_type": "execute_result"
    },
    {
     "data": {
      "image/png": "[encoded data removed]",
      "text/plain": [
       "<Figure size 640x480 with 1 Axes>"
      ]
     },
     "metadata": {},
     "output_type": "display_data"
    }
   ],
   "source": [
    "# index by day of week\n",
    "df_ords_prods_merge['orders_day_of_week'].value_counts().sort_index().plot.bar()"
   ]
  },
  {
   "cell_type": "markdown",
   "id": "3a7afba1-28b7-4b16-b590-d60e4475ee67",
   "metadata": {},
   "source": [
    "# Exporting charts"
   ]
  },
  {
   "cell_type": "code",
   "execution_count": 9,
   "id": "8a1c8965-1b2b-468a-afe2-2bd6b5e10991",
   "metadata": {},
   "outputs": [
    {
     "data": {
      "image/png": "[encoded data removed]",
      "text/plain": [
       "<Figure size 640x480 with 1 Axes>"
      ]
     },
     "metadata": {},
     "output_type": "display_data"
    }
   ],
   "source": [
    "# Save within the bar object, and you’ll be able to access it any time you like by calling bar.figure.\n",
    "bar = df_ords_prods_merge['orders_day_of_week'].value_counts().sort_index().plot.bar(color =['purple', 'red', 'pink', 'orange', 'yellow', 'green', 'blue'])"
   ]
  },
  {
   "cell_type": "code",
   "execution_count": 10,
   "id": "24ca40b7-6014-4a98-8973-6482a1006eca",
   "metadata": {},
   "outputs": [],
   "source": [
    "# Export as an image outside of Jupyter\n",
    "bar.figure.savefig(os.path.join(path, '04 Analysis','Visualizations', 'bar_orders_dow.png'))"
   ]
  },
  {
   "cell_type": "markdown",
   "id": "5faebe3c-03e1-46f7-a859-a8cfb4e3fa2c",
   "metadata": {},
   "source": [
    "# Create a histogram of prices"
   ]
  },
  {
   "cell_type": "code",
   "execution_count": 11,
   "id": "e13462bc-3d84-4930-80f7-c19eb3a13f96",
   "metadata": {},
   "outputs": [
    {
     "data": {
      "text/plain": [
       "<Axes: ylabel='Frequency'>"
      ]
     },
     "execution_count": 11,
     "metadata": {},
     "output_type": "execute_result"
    },
    {
     "data": {
      "image/png": "[encoded data removed]",
      "text/plain": [
       "<Figure size 640x480 with 1 Axes>"
      ]
     },
     "metadata": {},
     "output_type": "display_data"
    }
   ],
   "source": [
    "df_ords_prods_merge['prices'].plot.hist(bins = 25)"
   ]
  },
  {
   "cell_type": "markdown",
   "id": "6534b841-9f98-4fcc-9be3-68986a0d6d99",
   "metadata": {},
   "source": [
    "## Run a scatterplot"
   ]
  },
  {
   "cell_type": "code",
   "execution_count": 12,
   "id": "c59cc2af-5184-4c10-aca4-3ffb4b59462e",
   "metadata": {},
   "outputs": [
    {
     "data": {
      "text/plain": [
       "<Axes: xlabel='prices', ylabel='prices'>"
      ]
     },
     "execution_count": 12,
     "metadata": {},
     "output_type": "execute_result"
    },
    {
     "data": {
      "image/png": "[encoded data removed]",
      "text/plain": [
       "<Figure size 640x480 with 1 Axes>"
      ]
     },
     "metadata": {},
     "output_type": "display_data"
    }
   ],
   "source": [
    "sns.scatterplot(x = 'prices', y = 'prices',data = df_ords_prods_merge)"
   ]
  },
  {
   "cell_type": "code",
   "execution_count": 13,
   "id": "fb68e456-a131-4984-9068-7ef42b399a29",
   "metadata": {},
   "outputs": [
    {
     "data": {
      "text/html": [
       "<div>\n",
       "<style scoped>\n",
       "    .dataframe tbody tr th:only-of-type {\n",
       "        vertical-align: middle;\n",
       "    }\n",
       "\n",
       "    .dataframe tbody tr th {\n",
       "        vertical-align: top;\n",
       "    }\n",
       "\n",
       "    .dataframe thead th {\n",
       "        text-align: right;\n",
       "    }\n",
       "</style>\n",
       "<table border=\"1\" class=\"dataframe\">\n",
       "  <thead>\n",
       "    <tr style=\"text-align: right;\">\n",
       "      <th></th>\n",
       "      <th>product_id</th>\n",
       "      <th>product_name</th>\n",
       "      <th>aisle_id</th>\n",
       "      <th>department_id</th>\n",
       "      <th>prices</th>\n",
       "      <th>order_id</th>\n",
       "      <th>user_id</th>\n",
       "      <th>order_number</th>\n",
       "      <th>orders_day_of_week</th>\n",
       "      <th>order_hour_of_day</th>\n",
       "      <th>...</th>\n",
       "      <th>price_range_loc</th>\n",
       "      <th>busiest_day</th>\n",
       "      <th>busiest_days</th>\n",
       "      <th>busiest_period_of_day</th>\n",
       "      <th>max_order</th>\n",
       "      <th>loyalty_flag</th>\n",
       "      <th>average_spent</th>\n",
       "      <th>spending_flag</th>\n",
       "      <th>median_days_since_orders</th>\n",
       "      <th>order_frequency_flag</th>\n",
       "    </tr>\n",
       "  </thead>\n",
       "  <tbody>\n",
       "  </tbody>\n",
       "</table>\n",
       "<p>0 rows × 24 columns</p>\n",
       "</div>"
      ],
      "text/plain": [
       "Empty DataFrame\n",
       "Columns: [product_id, product_name, aisle_id, department_id, prices, order_id, user_id, order_number, orders_day_of_week, order_hour_of_day, days_since_prior_order, add_to_cart_order, reordered, _merge, price_range_loc, busiest_day, busiest_days, busiest_period_of_day, max_order, loyalty_flag, average_spent, spending_flag, median_days_since_orders, order_frequency_flag]\n",
       "Index: []\n",
       "\n",
       "[0 rows x 24 columns]"
      ]
     },
     "execution_count": 13,
     "metadata": {},
     "output_type": "execute_result"
    }
   ],
   "source": [
    "# Check for rows with prices of above 100\n",
    "df_ords_prods_merge.loc[df_ords_prods_merge['prices'] > 100]"
   ]
  },
  {
   "cell_type": "code",
   "execution_count": 14,
   "id": "fee6d2bb-7d6e-4119-9536-de71bd15c219",
   "metadata": {},
   "outputs": [
    {
     "data": {
      "text/html": [
       "<div>\n",
       "<style scoped>\n",
       "    .dataframe tbody tr th:only-of-type {\n",
       "        vertical-align: middle;\n",
       "    }\n",
       "\n",
       "    .dataframe tbody tr th {\n",
       "        vertical-align: top;\n",
       "    }\n",
       "\n",
       "    .dataframe thead th {\n",
       "        text-align: right;\n",
       "    }\n",
       "</style>\n",
       "<table border=\"1\" class=\"dataframe\">\n",
       "  <thead>\n",
       "    <tr style=\"text-align: right;\">\n",
       "      <th></th>\n",
       "      <th>product_id</th>\n",
       "      <th>product_name</th>\n",
       "      <th>aisle_id</th>\n",
       "      <th>department_id</th>\n",
       "      <th>prices</th>\n",
       "      <th>order_id</th>\n",
       "      <th>user_id</th>\n",
       "      <th>order_number</th>\n",
       "      <th>orders_day_of_week</th>\n",
       "      <th>order_hour_of_day</th>\n",
       "      <th>...</th>\n",
       "      <th>price_range_loc</th>\n",
       "      <th>busiest_day</th>\n",
       "      <th>busiest_days</th>\n",
       "      <th>busiest_period_of_day</th>\n",
       "      <th>max_order</th>\n",
       "      <th>loyalty_flag</th>\n",
       "      <th>average_spent</th>\n",
       "      <th>spending_flag</th>\n",
       "      <th>median_days_since_orders</th>\n",
       "      <th>order_frequency_flag</th>\n",
       "    </tr>\n",
       "  </thead>\n",
       "  <tbody>\n",
       "    <tr>\n",
       "      <th>12787</th>\n",
       "      <td>40</td>\n",
       "      <td>Beef Hot Links Beef Smoked Sausage With Chile ...</td>\n",
       "      <td>106</td>\n",
       "      <td>12</td>\n",
       "      <td>22.500000</td>\n",
       "      <td>12980</td>\n",
       "      <td>160701</td>\n",
       "      <td>3</td>\n",
       "      <td>6</td>\n",
       "      <td>18</td>\n",
       "      <td>...</td>\n",
       "      <td>High-range product</td>\n",
       "      <td>Regularly busy</td>\n",
       "      <td>Regularly busy</td>\n",
       "      <td>Average orders</td>\n",
       "      <td>14</td>\n",
       "      <td>Regular customer</td>\n",
       "      <td>7.677605</td>\n",
       "      <td>Low spender</td>\n",
       "      <td>7.0</td>\n",
       "      <td>Frequent customer</td>\n",
       "    </tr>\n",
       "    <tr>\n",
       "      <th>12788</th>\n",
       "      <td>40</td>\n",
       "      <td>Beef Hot Links Beef Smoked Sausage With Chile ...</td>\n",
       "      <td>106</td>\n",
       "      <td>12</td>\n",
       "      <td>22.500000</td>\n",
       "      <td>14117</td>\n",
       "      <td>146872</td>\n",
       "      <td>15</td>\n",
       "      <td>4</td>\n",
       "      <td>17</td>\n",
       "      <td>...</td>\n",
       "      <td>High-range product</td>\n",
       "      <td>Least busy</td>\n",
       "      <td>Least busy</td>\n",
       "      <td>Average orders</td>\n",
       "      <td>99</td>\n",
       "      <td>Loyal customer</td>\n",
       "      <td>8.892600</td>\n",
       "      <td>Low spender</td>\n",
       "      <td>2.0</td>\n",
       "      <td>Frequent customer</td>\n",
       "    </tr>\n",
       "    <tr>\n",
       "      <th>12789</th>\n",
       "      <td>40</td>\n",
       "      <td>Beef Hot Links Beef Smoked Sausage With Chile ...</td>\n",
       "      <td>106</td>\n",
       "      <td>12</td>\n",
       "      <td>22.500000</td>\n",
       "      <td>74733</td>\n",
       "      <td>32454</td>\n",
       "      <td>13</td>\n",
       "      <td>0</td>\n",
       "      <td>13</td>\n",
       "      <td>...</td>\n",
       "      <td>High-range product</td>\n",
       "      <td>Busiest day</td>\n",
       "      <td>Busiest day</td>\n",
       "      <td>Most orders</td>\n",
       "      <td>22</td>\n",
       "      <td>Regular customer</td>\n",
       "      <td>8.704820</td>\n",
       "      <td>Low spender</td>\n",
       "      <td>15.0</td>\n",
       "      <td>Regular customer</td>\n",
       "    </tr>\n",
       "    <tr>\n",
       "      <th>12790</th>\n",
       "      <td>40</td>\n",
       "      <td>Beef Hot Links Beef Smoked Sausage With Chile ...</td>\n",
       "      <td>106</td>\n",
       "      <td>12</td>\n",
       "      <td>22.500000</td>\n",
       "      <td>169712</td>\n",
       "      <td>96093</td>\n",
       "      <td>13</td>\n",
       "      <td>5</td>\n",
       "      <td>16</td>\n",
       "      <td>...</td>\n",
       "      <td>High-range product</td>\n",
       "      <td>Regularly busy</td>\n",
       "      <td>Regularly busy</td>\n",
       "      <td>Average orders</td>\n",
       "      <td>37</td>\n",
       "      <td>Regular customer</td>\n",
       "      <td>8.158022</td>\n",
       "      <td>Low spender</td>\n",
       "      <td>12.0</td>\n",
       "      <td>Regular customer</td>\n",
       "    </tr>\n",
       "    <tr>\n",
       "      <th>12791</th>\n",
       "      <td>40</td>\n",
       "      <td>Beef Hot Links Beef Smoked Sausage With Chile ...</td>\n",
       "      <td>106</td>\n",
       "      <td>12</td>\n",
       "      <td>22.500000</td>\n",
       "      <td>189782</td>\n",
       "      <td>170178</td>\n",
       "      <td>18</td>\n",
       "      <td>4</td>\n",
       "      <td>19</td>\n",
       "      <td>...</td>\n",
       "      <td>High-range product</td>\n",
       "      <td>Least busy</td>\n",
       "      <td>Least busy</td>\n",
       "      <td>Average orders</td>\n",
       "      <td>45</td>\n",
       "      <td>Loyal customer</td>\n",
       "      <td>7.906763</td>\n",
       "      <td>Low spender</td>\n",
       "      <td>7.0</td>\n",
       "      <td>Frequent customer</td>\n",
       "    </tr>\n",
       "    <tr>\n",
       "      <th>...</th>\n",
       "      <td>...</td>\n",
       "      <td>...</td>\n",
       "      <td>...</td>\n",
       "      <td>...</td>\n",
       "      <td>...</td>\n",
       "      <td>...</td>\n",
       "      <td>...</td>\n",
       "      <td>...</td>\n",
       "      <td>...</td>\n",
       "      <td>...</td>\n",
       "      <td>...</td>\n",
       "      <td>...</td>\n",
       "      <td>...</td>\n",
       "      <td>...</td>\n",
       "      <td>...</td>\n",
       "      <td>...</td>\n",
       "      <td>...</td>\n",
       "      <td>...</td>\n",
       "      <td>...</td>\n",
       "      <td>...</td>\n",
       "      <td>...</td>\n",
       "    </tr>\n",
       "    <tr>\n",
       "      <th>32300502</th>\n",
       "      <td>49651</td>\n",
       "      <td>Beef Brisket</td>\n",
       "      <td>122</td>\n",
       "      <td>12</td>\n",
       "      <td>20.703125</td>\n",
       "      <td>2740722</td>\n",
       "      <td>178645</td>\n",
       "      <td>4</td>\n",
       "      <td>2</td>\n",
       "      <td>8</td>\n",
       "      <td>...</td>\n",
       "      <td>High-range product</td>\n",
       "      <td>Regularly busy</td>\n",
       "      <td>Regularly busy</td>\n",
       "      <td>Average orders</td>\n",
       "      <td>5</td>\n",
       "      <td>New customer</td>\n",
       "      <td>8.117578</td>\n",
       "      <td>Low spender</td>\n",
       "      <td>30.0</td>\n",
       "      <td>Non-frequent customer</td>\n",
       "    </tr>\n",
       "    <tr>\n",
       "      <th>32300503</th>\n",
       "      <td>49651</td>\n",
       "      <td>Beef Brisket</td>\n",
       "      <td>122</td>\n",
       "      <td>12</td>\n",
       "      <td>20.703125</td>\n",
       "      <td>2824226</td>\n",
       "      <td>194671</td>\n",
       "      <td>22</td>\n",
       "      <td>5</td>\n",
       "      <td>10</td>\n",
       "      <td>...</td>\n",
       "      <td>High-range product</td>\n",
       "      <td>Regularly busy</td>\n",
       "      <td>Regularly busy</td>\n",
       "      <td>Most orders</td>\n",
       "      <td>30</td>\n",
       "      <td>Regular customer</td>\n",
       "      <td>8.431551</td>\n",
       "      <td>Low spender</td>\n",
       "      <td>8.0</td>\n",
       "      <td>Frequent customer</td>\n",
       "    </tr>\n",
       "    <tr>\n",
       "      <th>32300504</th>\n",
       "      <td>49651</td>\n",
       "      <td>Beef Brisket</td>\n",
       "      <td>122</td>\n",
       "      <td>12</td>\n",
       "      <td>20.703125</td>\n",
       "      <td>2948592</td>\n",
       "      <td>155910</td>\n",
       "      <td>18</td>\n",
       "      <td>5</td>\n",
       "      <td>12</td>\n",
       "      <td>...</td>\n",
       "      <td>High-range product</td>\n",
       "      <td>Regularly busy</td>\n",
       "      <td>Regularly busy</td>\n",
       "      <td>Most orders</td>\n",
       "      <td>47</td>\n",
       "      <td>Loyal customer</td>\n",
       "      <td>7.873362</td>\n",
       "      <td>Low spender</td>\n",
       "      <td>3.0</td>\n",
       "      <td>Frequent customer</td>\n",
       "    </tr>\n",
       "    <tr>\n",
       "      <th>32300505</th>\n",
       "      <td>49651</td>\n",
       "      <td>Beef Brisket</td>\n",
       "      <td>122</td>\n",
       "      <td>12</td>\n",
       "      <td>20.703125</td>\n",
       "      <td>2988451</td>\n",
       "      <td>84692</td>\n",
       "      <td>20</td>\n",
       "      <td>2</td>\n",
       "      <td>14</td>\n",
       "      <td>...</td>\n",
       "      <td>High-range product</td>\n",
       "      <td>Regularly busy</td>\n",
       "      <td>Regularly busy</td>\n",
       "      <td>Most orders</td>\n",
       "      <td>28</td>\n",
       "      <td>Regular customer</td>\n",
       "      <td>8.207258</td>\n",
       "      <td>Low spender</td>\n",
       "      <td>4.0</td>\n",
       "      <td>Frequent customer</td>\n",
       "    </tr>\n",
       "    <tr>\n",
       "      <th>32300506</th>\n",
       "      <td>49651</td>\n",
       "      <td>Beef Brisket</td>\n",
       "      <td>122</td>\n",
       "      <td>12</td>\n",
       "      <td>20.703125</td>\n",
       "      <td>3017794</td>\n",
       "      <td>201073</td>\n",
       "      <td>7</td>\n",
       "      <td>5</td>\n",
       "      <td>15</td>\n",
       "      <td>...</td>\n",
       "      <td>High-range product</td>\n",
       "      <td>Regularly busy</td>\n",
       "      <td>Regularly busy</td>\n",
       "      <td>Most orders</td>\n",
       "      <td>44</td>\n",
       "      <td>Loyal customer</td>\n",
       "      <td>7.642641</td>\n",
       "      <td>Low spender</td>\n",
       "      <td>5.0</td>\n",
       "      <td>Frequent customer</td>\n",
       "    </tr>\n",
       "  </tbody>\n",
       "</table>\n",
       "<p>227221 rows × 24 columns</p>\n",
       "</div>"
      ],
      "text/plain": [
       "          product_id                                       product_name  \\\n",
       "12787             40  Beef Hot Links Beef Smoked Sausage With Chile ...   \n",
       "12788             40  Beef Hot Links Beef Smoked Sausage With Chile ...   \n",
       "12789             40  Beef Hot Links Beef Smoked Sausage With Chile ...   \n",
       "12790             40  Beef Hot Links Beef Smoked Sausage With Chile ...   \n",
       "12791             40  Beef Hot Links Beef Smoked Sausage With Chile ...   \n",
       "...              ...                                                ...   \n",
       "32300502       49651                                       Beef Brisket   \n",
       "32300503       49651                                       Beef Brisket   \n",
       "32300504       49651                                       Beef Brisket   \n",
       "32300505       49651                                       Beef Brisket   \n",
       "32300506       49651                                       Beef Brisket   \n",
       "\n",
       "          aisle_id  department_id     prices  order_id  user_id  order_number  \\\n",
       "12787          106             12  22.500000     12980   160701             3   \n",
       "12788          106             12  22.500000     14117   146872            15   \n",
       "12789          106             12  22.500000     74733    32454            13   \n",
       "12790          106             12  22.500000    169712    96093            13   \n",
       "12791          106             12  22.500000    189782   170178            18   \n",
       "...            ...            ...        ...       ...      ...           ...   \n",
       "32300502       122             12  20.703125   2740722   178645             4   \n",
       "32300503       122             12  20.703125   2824226   194671            22   \n",
       "32300504       122             12  20.703125   2948592   155910            18   \n",
       "32300505       122             12  20.703125   2988451    84692            20   \n",
       "32300506       122             12  20.703125   3017794   201073             7   \n",
       "\n",
       "          orders_day_of_week  order_hour_of_day  ...     price_range_loc  \\\n",
       "12787                      6                 18  ...  High-range product   \n",
       "12788                      4                 17  ...  High-range product   \n",
       "12789                      0                 13  ...  High-range product   \n",
       "12790                      5                 16  ...  High-range product   \n",
       "12791                      4                 19  ...  High-range product   \n",
       "...                      ...                ...  ...                 ...   \n",
       "32300502                   2                  8  ...  High-range product   \n",
       "32300503                   5                 10  ...  High-range product   \n",
       "32300504                   5                 12  ...  High-range product   \n",
       "32300505                   2                 14  ...  High-range product   \n",
       "32300506                   5                 15  ...  High-range product   \n",
       "\n",
       "             busiest_day    busiest_days busiest_period_of_day max_order  \\\n",
       "12787     Regularly busy  Regularly busy        Average orders        14   \n",
       "12788         Least busy      Least busy        Average orders        99   \n",
       "12789        Busiest day     Busiest day           Most orders        22   \n",
       "12790     Regularly busy  Regularly busy        Average orders        37   \n",
       "12791         Least busy      Least busy        Average orders        45   \n",
       "...                  ...             ...                   ...       ...   \n",
       "32300502  Regularly busy  Regularly busy        Average orders         5   \n",
       "32300503  Regularly busy  Regularly busy           Most orders        30   \n",
       "32300504  Regularly busy  Regularly busy           Most orders        47   \n",
       "32300505  Regularly busy  Regularly busy           Most orders        28   \n",
       "32300506  Regularly busy  Regularly busy           Most orders        44   \n",
       "\n",
       "              loyalty_flag average_spent spending_flag  \\\n",
       "12787     Regular customer      7.677605   Low spender   \n",
       "12788       Loyal customer      8.892600   Low spender   \n",
       "12789     Regular customer      8.704820   Low spender   \n",
       "12790     Regular customer      8.158022   Low spender   \n",
       "12791       Loyal customer      7.906763   Low spender   \n",
       "...                    ...           ...           ...   \n",
       "32300502      New customer      8.117578   Low spender   \n",
       "32300503  Regular customer      8.431551   Low spender   \n",
       "32300504    Loyal customer      7.873362   Low spender   \n",
       "32300505  Regular customer      8.207258   Low spender   \n",
       "32300506    Loyal customer      7.642641   Low spender   \n",
       "\n",
       "          median_days_since_orders   order_frequency_flag  \n",
       "12787                          7.0      Frequent customer  \n",
       "12788                          2.0      Frequent customer  \n",
       "12789                         15.0       Regular customer  \n",
       "12790                         12.0       Regular customer  \n",
       "12791                          7.0      Frequent customer  \n",
       "...                            ...                    ...  \n",
       "32300502                      30.0  Non-frequent customer  \n",
       "32300503                       8.0      Frequent customer  \n",
       "32300504                       3.0      Frequent customer  \n",
       "32300505                       4.0      Frequent customer  \n",
       "32300506                       5.0      Frequent customer  \n",
       "\n",
       "[227221 rows x 24 columns]"
      ]
     },
     "execution_count": 14,
     "metadata": {},
     "output_type": "execute_result"
    }
   ],
   "source": [
    "# Now check for above 20 - just curious\n",
    "df_ords_prods_merge.loc[df_ords_prods_merge['prices'] > 20]"
   ]
  },
  {
   "cell_type": "markdown",
   "id": "6cc6b2f7-59c4-4cfd-833b-fb9f236f44e2",
   "metadata": {},
   "source": [
    "## Run histogram again with bin=70"
   ]
  },
  {
   "cell_type": "code",
   "execution_count": 15,
   "id": "3157fe10-eb81-4204-9d0e-1ea5279531b7",
   "metadata": {},
   "outputs": [
    {
     "data": {
      "text/plain": [
       "<Axes: ylabel='Frequency'>"
      ]
     },
     "execution_count": 15,
     "metadata": {},
     "output_type": "execute_result"
    },
    {
     "data": {
      "image/png": "[encoded data removed]",
      "text/plain": [
       "<Figure size 640x480 with 1 Axes>"
      ]
     },
     "metadata": {},
     "output_type": "display_data"
    }
   ],
   "source": [
    "df_ords_prods_merge['prices'].plot.hist(bins = 70)"
   ]
  },
  {
   "cell_type": "markdown",
   "id": "a6b4f529-fb51-4bc1-b9ce-85ab85079a78",
   "metadata": {},
   "source": [
    "# Exporting Histogram"
   ]
  },
  {
   "cell_type": "code",
   "execution_count": 16,
   "id": "fe114140-3e29-4780-bda7-c41b89fe6e39",
   "metadata": {},
   "outputs": [
    {
     "data": {
      "image/png": "[encoded data removed]",
      "text/plain": [
       "<Figure size 640x480 with 1 Axes>"
      ]
     },
     "metadata": {},
     "output_type": "display_data"
    }
   ],
   "source": [
    "# Save within a hist\n",
    "hist = df_ords_prods_merge['prices'].plot.hist(bins=70)"
   ]
  },
  {
   "cell_type": "code",
   "execution_count": 17,
   "id": "fad6eede-c9f3-4291-b68c-29904a8440d6",
   "metadata": {},
   "outputs": [],
   "source": [
    "# Export as an image outside of Jupyter\n",
    "hist.figure.savefig(os.path.join(path, '04 Analysis','Visualizations', 'hist_prices.png'))"
   ]
  },
  {
   "cell_type": "markdown",
   "id": "8916e8e1-e6f9-4270-a21e-c1d86a07f5b8",
   "metadata": {},
   "source": [
    "# Creating Line Charts - by SAMPLING"
   ]
  },
  {
   "cell_type": "code",
   "execution_count": 18,
   "id": "694d7293-48a6-4f25-bbd4-43dd9eee7323",
   "metadata": {},
   "outputs": [],
   "source": [
    "# Set the seed\n",
    "np.random.seed(5)"
   ]
  },
  {
   "cell_type": "code",
   "execution_count": 19,
   "id": "c1ca5db9-1bbd-4453-961d-86f2a5415c6f",
   "metadata": {},
   "outputs": [],
   "source": [
    "# Create the list of True or False values to test the random sample\n",
    "dev = np.random.rand(len(df_ords_prods_merge)) <= 0.7"
   ]
  },
  {
   "cell_type": "code",
   "execution_count": 20,
   "id": "cbf298b6-0abe-40a1-9a0a-8ed794b63fc1",
   "metadata": {},
   "outputs": [],
   "source": [
    "# Store 70% in the dataframe big \n",
    "big = df_ords_prods_merge[dev]"
   ]
  },
  {
   "cell_type": "code",
   "execution_count": 21,
   "id": "a4c50bd6-20b2-43fe-aaf3-bc949c9ff954",
   "metadata": {},
   "outputs": [],
   "source": [
    "# Store 30% in the dataframe small\n",
    "small = df_ords_prods_merge[~dev]"
   ]
  },
  {
   "cell_type": "code",
   "execution_count": 22,
   "id": "281aa1f4-b66b-4aa7-93b8-d6f74020eac6",
   "metadata": {},
   "outputs": [
    {
     "data": {
      "text/plain": [
       "32404859"
      ]
     },
     "execution_count": 22,
     "metadata": {},
     "output_type": "execute_result"
    }
   ],
   "source": [
    "# Check len\n",
    "len(df_ords_prods_merge)"
   ]
  },
  {
   "cell_type": "code",
   "execution_count": 23,
   "id": "7005217c-86ff-46ba-8ddb-defff203a057",
   "metadata": {},
   "outputs": [
    {
     "data": {
      "text/plain": [
       "32404859"
      ]
     },
     "execution_count": 23,
     "metadata": {},
     "output_type": "execute_result"
    }
   ],
   "source": [
    "#Check against big + small\n",
    "len(big) + len(small)"
   ]
  },
  {
   "cell_type": "markdown",
   "id": "d0edfe6a-2599-4866-9e1e-72ac079d96cf",
   "metadata": {},
   "source": [
    "# Make a df_2 to include only the columns to plot"
   ]
  },
  {
   "cell_type": "code",
   "execution_count": 24,
   "id": "4da878e6-46ed-4e39-97a9-e1342be25285",
   "metadata": {},
   "outputs": [],
   "source": [
    "df_2 = small[['orders_day_of_week','prices']]"
   ]
  },
  {
   "cell_type": "code",
   "execution_count": 25,
   "id": "67130ae6-346c-43c2-ba70-e0e38530a3c9",
   "metadata": {},
   "outputs": [
    {
     "data": {
      "text/plain": [
       "(9721931, 2)"
      ]
     },
     "execution_count": 25,
     "metadata": {},
     "output_type": "execute_result"
    }
   ],
   "source": [
    "df_2.shape"
   ]
  },
  {
   "cell_type": "code",
   "execution_count": 26,
   "id": "26a9e579-801d-4895-9add-e07963a081aa",
   "metadata": {},
   "outputs": [
    {
     "data": {
      "text/html": [
       "<div>\n",
       "<style scoped>\n",
       "    .dataframe tbody tr th:only-of-type {\n",
       "        vertical-align: middle;\n",
       "    }\n",
       "\n",
       "    .dataframe tbody tr th {\n",
       "        vertical-align: top;\n",
       "    }\n",
       "\n",
       "    .dataframe thead th {\n",
       "        text-align: right;\n",
       "    }\n",
       "</style>\n",
       "<table border=\"1\" class=\"dataframe\">\n",
       "  <thead>\n",
       "    <tr style=\"text-align: right;\">\n",
       "      <th></th>\n",
       "      <th>orders_day_of_week</th>\n",
       "      <th>prices</th>\n",
       "    </tr>\n",
       "  </thead>\n",
       "  <tbody>\n",
       "    <tr>\n",
       "      <th>1</th>\n",
       "      <td>1</td>\n",
       "      <td>5.800781</td>\n",
       "    </tr>\n",
       "    <tr>\n",
       "      <th>3</th>\n",
       "      <td>2</td>\n",
       "      <td>5.800781</td>\n",
       "    </tr>\n",
       "    <tr>\n",
       "      <th>6</th>\n",
       "      <td>1</td>\n",
       "      <td>5.800781</td>\n",
       "    </tr>\n",
       "    <tr>\n",
       "      <th>11</th>\n",
       "      <td>2</td>\n",
       "      <td>5.800781</td>\n",
       "    </tr>\n",
       "    <tr>\n",
       "      <th>14</th>\n",
       "      <td>4</td>\n",
       "      <td>5.800781</td>\n",
       "    </tr>\n",
       "  </tbody>\n",
       "</table>\n",
       "</div>"
      ],
      "text/plain": [
       "    orders_day_of_week    prices\n",
       "1                    1  5.800781\n",
       "3                    2  5.800781\n",
       "6                    1  5.800781\n",
       "11                   2  5.800781\n",
       "14                   4  5.800781"
      ]
     },
     "execution_count": 26,
     "metadata": {},
     "output_type": "execute_result"
    }
   ],
   "source": [
    "df_2.head()"
   ]
  },
  {
   "cell_type": "markdown",
   "id": "22ccd227-a7c4-4053-a85d-33d0fa19cbe6",
   "metadata": {},
   "source": [
    "### why are all prices the same... I ran 30 rows, same prices?"
   ]
  },
  {
   "cell_type": "markdown",
   "id": "d87a5a63-2921-4272-8ca8-b06f3e9b0855",
   "metadata": {},
   "source": [
    "# Create the chart"
   ]
  },
  {
   "cell_type": "code",
   "execution_count": 27,
   "id": "2ab1ba4e-68a6-4ea6-b58b-43096024f8df",
   "metadata": {},
   "outputs": [
    {
     "data": {
      "image/png": "[encoded data removed]",
      "text/plain": [
       "<Figure size 640x480 with 1 Axes>"
      ]
     },
     "metadata": {},
     "output_type": "display_data"
    }
   ],
   "source": [
    "line = sns.lineplot(data = df_2, x = 'orders_day_of_week',y = 'prices')"
   ]
  },
  {
   "cell_type": "code",
   "execution_count": 28,
   "id": "1352fd84-3b9d-453b-8e71-63ff8fc29925",
   "metadata": {},
   "outputs": [],
   "source": [
    "# Export \n",
    "line.figure.savefig(os.path.join(path, '04 Analysis','Visualizations', 'line_day_prices.png'))"
   ]
  }
 ],
 "metadata": {
  "kernelspec": {
   "display_name": "Python 3 (ipykernel)",
   "language": "python",
   "name": "python3"
  },
  "language_info": {
   "codemirror_mode": {
    "name": "ipython",
    "version": 3
   },
   "file_extension": ".py",
   "mimetype": "text/x-python",
   "name": "python",
   "nbconvert_exporter": "python",
   "pygments_lexer": "ipython3",
   "version": "3.12.7"
  }
 },
 "nbformat": 4,
 "nbformat_minor": 5
}
