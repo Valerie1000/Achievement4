{
 "cells": [
  {
   "cell_type": "markdown",
   "id": "58ba559b-2c9a-4cfb-aa44-0d44efa6fad5",
   "metadata": {},
   "source": [
    "# 01. Importing Libraries"
   ]
  },
  {
   "cell_type": "code",
   "execution_count": 13,
   "id": "8ac79dc5-b617-4df7-9129-c863cb5a990f",
   "metadata": {},
   "outputs": [],
   "source": [
    "import pandas as pd\n",
    "import numpy as np\n",
    "import os"
   ]
  },
  {
   "cell_type": "markdown",
   "id": "63a7e865-33fa-4b93-9217-ae50f669e223",
   "metadata": {},
   "source": [
    "# 02. Trying data types"
   ]
  },
  {
   "cell_type": "code",
   "execution_count": 1,
   "id": "20858c3c-4fd3-4247-89f6-cfd9b2ea2958",
   "metadata": {},
   "outputs": [],
   "source": [
    "x=2"
   ]
  },
  {
   "cell_type": "code",
   "execution_count": 2,
   "id": "ea2faa2d-2f20-40de-8d63-c4424157b0f8",
   "metadata": {},
   "outputs": [
    {
     "data": {
      "text/plain": [
       "2"
      ]
     },
     "execution_count": 2,
     "metadata": {},
     "output_type": "execute_result"
    }
   ],
   "source": [
    "x\n"
   ]
  },
  {
   "cell_type": "code",
   "execution_count": 3,
   "id": "62cdb661-97db-42f9-a8d1-ff34c53a81fa",
   "metadata": {},
   "outputs": [
    {
     "name": "stdout",
     "output_type": "stream",
     "text": [
      "2\n"
     ]
    }
   ],
   "source": [
    "print(x)"
   ]
  },
  {
   "cell_type": "code",
   "execution_count": 4,
   "id": "e9e23b68-d3b1-4756-a6cc-f75ab66063b1",
   "metadata": {},
   "outputs": [
    {
     "data": {
      "text/plain": [
       "int"
      ]
     },
     "execution_count": 4,
     "metadata": {},
     "output_type": "execute_result"
    }
   ],
   "source": [
    "type(x)"
   ]
  },
  {
   "cell_type": "code",
   "execution_count": 5,
   "id": "55ce7ce1-0c60-43b0-a5b1-7776ac5dd4c7",
   "metadata": {},
   "outputs": [],
   "source": [
    "y=5.678"
   ]
  },
  {
   "cell_type": "code",
   "execution_count": 6,
   "id": "e01e582a-04d0-4d1a-acc9-7cd5cf32972f",
   "metadata": {},
   "outputs": [
    {
     "data": {
      "text/plain": [
       "float"
      ]
     },
     "execution_count": 6,
     "metadata": {},
     "output_type": "execute_result"
    }
   ],
   "source": [
    "type(y)"
   ]
  },
  {
   "cell_type": "code",
   "execution_count": 7,
   "id": "0b0329b9-cb5c-47b6-864a-5abd2aa91ce1",
   "metadata": {},
   "outputs": [
    {
     "ename": "NameError",
     "evalue": "name 'Brazil' is not defined",
     "output_type": "error",
     "traceback": [
      "\u001b[1;31m---------------------------------------------------------------------------\u001b[0m",
      "\u001b[1;31mNameError\u001b[0m                                 Traceback (most recent call last)",
      "Cell \u001b[1;32mIn[7], line 1\u001b[0m\n\u001b[1;32m----> 1\u001b[0m z\u001b[38;5;241m=\u001b[39mBrazil\n",
      "\u001b[1;31mNameError\u001b[0m: name 'Brazil' is not defined"
     ]
    }
   ],
   "source": [
    "z=Brazil"
   ]
  },
  {
   "cell_type": "code",
   "execution_count": 8,
   "id": "a707e492-3e2f-490c-b736-6d0a689e5fca",
   "metadata": {},
   "outputs": [],
   "source": [
    "z='Brazil'\n"
   ]
  },
  {
   "cell_type": "code",
   "execution_count": null,
   "id": "a35cf96c-50ee-4fa5-a8ca-fe4ae9656cf8",
   "metadata": {},
   "outputs": [],
   "source": []
  },
  {
   "cell_type": "code",
   "execution_count": 9,
   "id": "2ddf869b-1764-4bf2-b2cd-f2f99840a9bf",
   "metadata": {},
   "outputs": [
    {
     "data": {
      "text/plain": [
       "str"
      ]
     },
     "execution_count": 9,
     "metadata": {},
     "output_type": "execute_result"
    }
   ],
   "source": [
    "type(z)"
   ]
  },
  {
   "cell_type": "code",
   "execution_count": 10,
   "id": "d87e9b46-6157-4940-8f17-dec2e66236bd",
   "metadata": {},
   "outputs": [
    {
     "data": {
      "text/plain": [
       "6"
      ]
     },
     "execution_count": 10,
     "metadata": {},
     "output_type": "execute_result"
    }
   ],
   "source": [
    "x+4"
   ]
  },
  {
   "cell_type": "code",
   "execution_count": 11,
   "id": "afbec604-b025-48a0-ae5f-58a345ba5630",
   "metadata": {},
   "outputs": [
    {
     "data": {
      "text/plain": [
       "False"
      ]
     },
     "execution_count": 11,
     "metadata": {},
     "output_type": "execute_result"
    }
   ],
   "source": [
    "x==y"
   ]
  },
  {
   "cell_type": "code",
   "execution_count": 12,
   "id": "2b471bdb-b939-4258-94b9-b05115594dc0",
   "metadata": {},
   "outputs": [
    {
     "data": {
      "text/plain": [
       "bool"
      ]
     },
     "execution_count": 12,
     "metadata": {},
     "output_type": "execute_result"
    }
   ],
   "source": [
    "type(x==y)"
   ]
  },
  {
   "cell_type": "markdown",
   "id": "732ee710-f772-41f4-bb73-12e69cf88b87",
   "metadata": {},
   "source": [
    "# Code 3 different ways of reaching a result of 100 by adding or subtracting numeric variables."
   ]
  },
  {
   "cell_type": "code",
   "execution_count": 15,
   "id": "bb533bfc-4e21-4e54-b248-88e891a96325",
   "metadata": {},
   "outputs": [],
   "source": [
    "x=50"
   ]
  },
  {
   "cell_type": "code",
   "execution_count": 16,
   "id": "7c0dc760-03d2-4e57-8f4e-dff6c0602c5a",
   "metadata": {},
   "outputs": [
    {
     "data": {
      "text/plain": [
       "100"
      ]
     },
     "execution_count": 16,
     "metadata": {},
     "output_type": "execute_result"
    }
   ],
   "source": [
    "x+50"
   ]
  },
  {
   "cell_type": "code",
   "execution_count": 17,
   "id": "24f6be97-e846-4401-a50d-1398290547e3",
   "metadata": {},
   "outputs": [
    {
     "data": {
      "text/plain": [
       "100"
      ]
     },
     "execution_count": 17,
     "metadata": {},
     "output_type": "execute_result"
    }
   ],
   "source": [
    "x+x"
   ]
  },
  {
   "cell_type": "code",
   "execution_count": 18,
   "id": "de85a58e-4e53-4216-b753-45f640a9ca22",
   "metadata": {},
   "outputs": [],
   "source": [
    "y=150\n"
   ]
  },
  {
   "cell_type": "code",
   "execution_count": 19,
   "id": "8bcddbcc-fd2b-461b-b619-8bf9b3ee9f4e",
   "metadata": {},
   "outputs": [
    {
     "data": {
      "text/plain": [
       "100"
      ]
     },
     "execution_count": 19,
     "metadata": {},
     "output_type": "execute_result"
    }
   ],
   "source": [
    "y-x"
   ]
  },
  {
   "cell_type": "markdown",
   "id": "f98925e8-e1b2-47d2-9715-e0c6fb0cb578",
   "metadata": {},
   "source": [
    "# Code 2 floating-point variables and divide them by each other."
   ]
  },
  {
   "cell_type": "code",
   "execution_count": 20,
   "id": "9529b000-62d5-406f-91cd-d95b97b6785c",
   "metadata": {},
   "outputs": [],
   "source": [
    "a=22.22"
   ]
  },
  {
   "cell_type": "code",
   "execution_count": 21,
   "id": "ff453e71-43a5-47bb-9cfd-b257209d8fbe",
   "metadata": {},
   "outputs": [],
   "source": [
    "b=11.11"
   ]
  },
  {
   "cell_type": "code",
   "execution_count": 22,
   "id": "7c35fcc1-65e7-4ae4-94c5-ca90739cd61d",
   "metadata": {},
   "outputs": [
    {
     "data": {
      "text/plain": [
       "2.0"
      ]
     },
     "execution_count": 22,
     "metadata": {},
     "output_type": "execute_result"
    }
   ],
   "source": [
    "a/b"
   ]
  },
  {
   "cell_type": "markdown",
   "id": "896daa3b-fbf5-4d17-9532-8dbdce544cfb",
   "metadata": {},
   "source": [
    "# Construct a short word made of separate strings (you’ll need to concatenate some strings!)."
   ]
  },
  {
   "cell_type": "code",
   "execution_count": 27,
   "id": "e2d3e60a-6f65-43b6-8229-c442e7c914dc",
   "metadata": {},
   "outputs": [],
   "source": [
    "c='Good '"
   ]
  },
  {
   "cell_type": "code",
   "execution_count": 25,
   "id": "e3f0f04b-5a21-4f5e-b4c7-feaf151c2392",
   "metadata": {},
   "outputs": [],
   "source": [
    "d='morning'"
   ]
  },
  {
   "cell_type": "code",
   "execution_count": 28,
   "id": "efea77e0-5a1e-4f32-ab8c-9050229ec62d",
   "metadata": {},
   "outputs": [
    {
     "data": {
      "text/plain": [
       "'Good morning'"
      ]
     },
     "execution_count": 28,
     "metadata": {},
     "output_type": "execute_result"
    }
   ],
   "source": [
    "c+d"
   ]
  },
  {
   "cell_type": "markdown",
   "id": "bcdb5ec0-e32a-4efb-b35a-78bbde827544",
   "metadata": {},
   "source": [
    "# Construct 2 short sentences made of separate strings"
   ]
  },
  {
   "cell_type": "code",
   "execution_count": 29,
   "id": "0cbbd800-66d0-448f-9e5e-72c5526f9a2b",
   "metadata": {},
   "outputs": [],
   "source": [
    "e='My name is Valerie.'"
   ]
  },
  {
   "cell_type": "code",
   "execution_count": 30,
   "id": "81594991-cb3d-412e-aeb7-0919f743114d",
   "metadata": {},
   "outputs": [],
   "source": [
    "f='I am a student.'\n"
   ]
  },
  {
   "cell_type": "code",
   "execution_count": 31,
   "id": "a0e32bbf-c568-49b2-a45a-9868cdc89906",
   "metadata": {},
   "outputs": [
    {
     "data": {
      "text/plain": [
       "'My name is Valerie.I am a student.'"
      ]
     },
     "execution_count": 31,
     "metadata": {},
     "output_type": "execute_result"
    }
   ],
   "source": [
    "e+f"
   ]
  },
  {
   "cell_type": "markdown",
   "id": "011aad3b-bc2b-46c2-8e9a-a6438dd66beb",
   "metadata": {},
   "source": [
    "# command that makes a string appear 100 times."
   ]
  },
  {
   "cell_type": "code",
   "execution_count": 32,
   "id": "06812ac5-4c4e-4c62-a842-3cf567942ea1",
   "metadata": {},
   "outputs": [],
   "source": [
    "z='Hello'"
   ]
  },
  {
   "cell_type": "code",
   "execution_count": 33,
   "id": "fe2861a4-e5c4-48ef-ae8e-6f0481f35be5",
   "metadata": {},
   "outputs": [
    {
     "data": {
      "text/plain": [
       "'HelloHelloHelloHelloHelloHelloHelloHelloHelloHelloHelloHelloHelloHelloHelloHelloHelloHelloHelloHelloHelloHelloHelloHelloHelloHelloHelloHelloHelloHelloHelloHelloHelloHelloHelloHelloHelloHelloHelloHelloHelloHelloHelloHelloHelloHelloHelloHelloHelloHelloHelloHelloHelloHelloHelloHelloHelloHelloHelloHelloHelloHelloHelloHelloHelloHelloHelloHelloHelloHelloHelloHelloHelloHelloHelloHelloHelloHelloHelloHelloHelloHelloHelloHelloHelloHelloHelloHelloHelloHelloHelloHelloHelloHelloHelloHelloHelloHelloHelloHello'"
      ]
     },
     "execution_count": 33,
     "metadata": {},
     "output_type": "execute_result"
    }
   ],
   "source": [
    "z*100"
   ]
  },
  {
   "cell_type": "code",
   "execution_count": null,
   "id": "440e3431-ed9d-40fa-a698-b69e9fe4a2b0",
   "metadata": {},
   "outputs": [],
   "source": []
  }
 ],
 "metadata": {
  "kernelspec": {
   "display_name": "Python 3 (ipykernel)",
   "language": "python",
   "name": "python3"
  },
  "language_info": {
   "codemirror_mode": {
    "name": "ipython",
    "version": 3
   },
   "file_extension": ".py",
   "mimetype": "text/x-python",
   "name": "python",
   "nbconvert_exporter": "python",
   "pygments_lexer": "ipython3",
   "version": "3.12.7"
  }
 },
 "nbformat": 4,
 "nbformat_minor": 5
}
